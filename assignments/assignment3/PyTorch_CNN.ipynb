{
 "cells": [
  {
   "cell_type": "markdown",
   "metadata": {
    "id": "3RKgBwXr-YM8"
   },
   "source": [
    "# Задание 3.2 - сверточные нейронные сети (CNNs) в PyTorch\n",
    "\n",
    "Это упражнение мы буде выполнять в Google Colab - https://colab.research.google.com/  \n",
    "Google Colab позволяет запускать код в notebook в облаке Google, где можно воспользоваться бесплатным GPU!  \n",
    "\n",
    "Авторы курса благодарят компанию Google и надеятся, что праздник не закончится.\n",
    "\n",
    "Туториал по настройке Google Colab:  \n",
    "https://medium.com/deep-learning-turkey/google-colab-free-gpu-tutorial-e113627b9f5d  \n",
    "(Keras инсталлировать не нужно, наш notebook сам установит PyTorch)\n"
   ]
  },
  {
   "cell_type": "code",
   "execution_count": 1,
   "metadata": {
    "colab": {
     "base_uri": "https://localhost:8080/"
    },
    "id": "FcXBeP1O7cnY",
    "outputId": "fd0c07fe-1ea3-42ed-80b5-80e4f7b9d161"
   },
   "outputs": [
    {
     "name": "stdout",
     "output_type": "stream",
     "text": [
      "Requirement already satisfied: torch in /usr/local/lib/python3.8/dist-packages (1.8.1)\n",
      "Requirement already satisfied: torchvision in /usr/local/lib/python3.8/dist-packages (0.9.1)\n",
      "Requirement already satisfied: numpy in /usr/local/lib/python3.8/dist-packages (from torch) (1.20.3)\n",
      "Requirement already satisfied: typing-extensions in /usr/local/lib/python3.8/dist-packages (from torch) (3.7.4.3)\n",
      "Requirement already satisfied: pillow>=4.1.1 in /usr/lib/python3/dist-packages (from torchvision) (7.0.0)\n",
      "--2021-09-06 22:55:22--  http://ufldl.stanford.edu/housenumbers/train_32x32.mat\n",
      "Распознаётся ufldl.stanford.edu (ufldl.stanford.edu)... 171.64.68.10\n",
      "Подключение к ufldl.stanford.edu (ufldl.stanford.edu)|171.64.68.10|:80... соединение установлено.\n",
      "HTTP-запрос отправлен. Ожидание ответа... 416 Requested Range Not Satisfiable\n",
      "\n",
      "    Файл уже получен полностью; нет действий.\n",
      "\n",
      "--2021-09-06 22:55:22--  http://ufldl.stanford.edu/housenumbers/test_32x32.mat\n",
      "Повторное использование соединения с ufldl.stanford.edu:80.\n",
      "HTTP-запрос отправлен. Ожидание ответа... 416 Requested Range Not Satisfiable\n",
      "\n",
      "    Файл уже получен полностью; нет действий.\n",
      "\n"
     ]
    }
   ],
   "source": [
    "# Intstall PyTorch and download data\n",
    "!pip3 install torch torchvision\n",
    "\n",
    "!wget -c http://ufldl.stanford.edu/housenumbers/train_32x32.mat http://ufldl.stanford.edu/housenumbers/test_32x32.mat"
   ]
  },
  {
   "cell_type": "code",
   "execution_count": 2,
   "metadata": {
    "id": "-afwWw-Q85vD"
   },
   "outputs": [],
   "source": [
    "from collections import namedtuple\n",
    "\n",
    "import matplotlib.pyplot as plt\n",
    "import numpy as np\n",
    "import PIL\n",
    "import torch\n",
    "import torch.nn as nn\n",
    "import torch.optim as optim\n",
    "import torchvision.datasets as dset\n",
    "from torch.utils.data.sampler import SubsetRandomSampler\n",
    "\n",
    "from torchvision import transforms"
   ]
  },
  {
   "cell_type": "code",
   "execution_count": 3,
   "metadata": {
    "id": "NNU-OD9O9ltP"
   },
   "outputs": [],
   "source": [
    "device = torch.device(\"cuda:0\") # Let's make sure GPU is available!"
   ]
  },
  {
   "cell_type": "markdown",
   "metadata": {
    "id": "LAt55B7I-YNA"
   },
   "source": [
    "# Загружаем данные"
   ]
  },
  {
   "cell_type": "code",
   "execution_count": 4,
   "metadata": {
    "id": "YAvkoRx-9FsP"
   },
   "outputs": [],
   "source": [
    "# First, lets load the dataset\n",
    "data_train = dset.SVHN('./', \n",
    "                       transform=transforms.Compose([\n",
    "                           transforms.ToTensor(),\n",
    "                           transforms.Normalize(mean=[0.43,0.44,0.47],\n",
    "                                               std=[0.20,0.20,0.20])                           \n",
    "                       ])\n",
    "                      )\n",
    "data_test = dset.SVHN('./', split='test', transform=transforms.Compose([\n",
    "                           transforms.ToTensor(),\n",
    "                           transforms.Normalize(mean=[0.43,0.44,0.47],\n",
    "                                               std=[0.20,0.20,0.20])                           \n",
    "                       ]))"
   ]
  },
  {
   "cell_type": "markdown",
   "metadata": {
    "id": "DjNAClx3-YNB"
   },
   "source": [
    "Разделяем данные на training и validation.\n",
    "\n",
    "На всякий случай для подробностей - https://pytorch.org/tutorials/beginner/data_loading_tutorial.html"
   ]
  },
  {
   "cell_type": "code",
   "execution_count": 5,
   "metadata": {
    "id": "YRnr8CPg7Hli"
   },
   "outputs": [],
   "source": [
    "batch_size = 64\n",
    "\n",
    "data_size = data_train.data.shape[0]\n",
    "validation_split = .2\n",
    "split = int(np.floor(validation_split * data_size))\n",
    "indices = list(range(data_size))\n",
    "np.random.shuffle(indices)\n",
    "\n",
    "train_indices, val_indices = indices[split:], indices[:split]\n",
    "\n",
    "train_sampler = SubsetRandomSampler(train_indices)\n",
    "val_sampler = SubsetRandomSampler(val_indices)\n",
    "\n",
    "train_loader = torch.utils.data.DataLoader(data_train, batch_size=batch_size, \n",
    "                                           sampler=train_sampler)\n",
    "val_loader = torch.utils.data.DataLoader(data_train, batch_size=batch_size,\n",
    "                                         sampler=val_sampler)"
   ]
  },
  {
   "cell_type": "code",
   "execution_count": 6,
   "metadata": {
    "id": "LyYvt-T67PBG"
   },
   "outputs": [],
   "source": [
    "# We'll use a special helper module to shape it into a flat tensor\n",
    "class Flattener(nn.Module):\n",
    "    def forward(self, x):\n",
    "        batch_size, *_ = x.shape\n",
    "        return x.view(batch_size, -1)"
   ]
  },
  {
   "cell_type": "markdown",
   "metadata": {
    "id": "2CNaSW_n-YND"
   },
   "source": [
    "Создадим простейшую сеть с новыми слоями:  \n",
    "Convolutional - `nn.Conv2d`  \n",
    "MaxPool - `nn.MaxPool2d`"
   ]
  },
  {
   "cell_type": "code",
   "execution_count": 7,
   "metadata": {
    "id": "w9SFVGZP7SQd"
   },
   "outputs": [],
   "source": [
    "nn_model = nn.Sequential(\n",
    "            nn.Conv2d(3, 64, 3, padding=1),\n",
    "            nn.ReLU(inplace=True),\n",
    "            nn.MaxPool2d(4),\n",
    "            nn.Conv2d(64, 64, 3, padding=1),\n",
    "            nn.ReLU(inplace=True),\n",
    "            nn.MaxPool2d(4),    \n",
    "            Flattener(),\n",
    "            nn.Linear(64*2*2, 10),\n",
    "          )\n",
    "\n",
    "nn_model.type(torch.cuda.FloatTensor)\n",
    "nn_model.to(device)\n",
    "\n",
    "loss = nn.CrossEntropyLoss().type(torch.cuda.FloatTensor)\n",
    "optimizer = optim.SGD(nn_model.parameters(), lr=1e-1, weight_decay=1e-4)"
   ]
  },
  {
   "cell_type": "markdown",
   "metadata": {
    "id": "knw0mDIj-YNE"
   },
   "source": [
    "Восстановите функцию `compute_accuracy` из прошлого задания.  \n",
    "Единственное отличие в новом - она должна передать данные на GPU прежде чем прогонять через модель. Сделайте это так же, как это делает функция `train_model`"
   ]
  },
  {
   "cell_type": "code",
   "execution_count": 8,
   "metadata": {
    "colab": {
     "base_uri": "https://localhost:8080/"
    },
    "id": "2ek3KVQK7hJ6",
    "outputId": "4297d80f-4691-4752-e610-72829e12527b"
   },
   "outputs": [
    {
     "name": "stdout",
     "output_type": "stream",
     "text": [
      "Average loss: 1.427896, Train accuracy: 0.525100, Val accuracy: 0.694178\n",
      "Average loss: 0.704065, Train accuracy: 0.785739, Val accuracy: 0.792103\n",
      "Average loss: 0.601949, Train accuracy: 0.818978, Val accuracy: 0.841910\n",
      "Average loss: 0.545628, Train accuracy: 0.838873, Val accuracy: 0.834727\n",
      "Average loss: 0.517221, Train accuracy: 0.846142, Val accuracy: 0.829045\n"
     ]
    }
   ],
   "source": [
    "def train_model(model, train_loader, val_loader, loss, optimizer, num_epochs, scheduler=None):    \n",
    "    loss_history = []\n",
    "    train_history = []\n",
    "    val_history = []\n",
    "    for epoch in range(num_epochs):\n",
    "        model.train() # Enter train mode\n",
    "        \n",
    "        loss_accum = 0\n",
    "        correct_samples = 0\n",
    "        total_samples = 0\n",
    "        for i_step, (x, y) in enumerate(train_loader):\n",
    "          \n",
    "            x_gpu = x.to(device)\n",
    "            y_gpu = y.to(device)\n",
    "            prediction = model(x_gpu)    \n",
    "            loss_value = loss(prediction, y_gpu)\n",
    "            optimizer.zero_grad()\n",
    "            loss_value.backward()\n",
    "            optimizer.step()\n",
    "            \n",
    "            _, indices = torch.max(prediction, 1)\n",
    "            correct_samples += torch.sum(indices == y_gpu)\n",
    "            total_samples += y.shape[0]\n",
    "            \n",
    "            loss_accum += loss_value\n",
    "\n",
    "        if scheduler is not None:\n",
    "            scheduler.step()\n",
    "\n",
    "        ave_loss = loss_accum / i_step\n",
    "        train_accuracy = float(correct_samples) / total_samples\n",
    "        val_accuracy = compute_accuracy(model, val_loader)\n",
    "        \n",
    "        loss_history.append(float(ave_loss))\n",
    "        train_history.append(train_accuracy)\n",
    "        val_history.append(val_accuracy)\n",
    "        \n",
    "        print(\"Average loss: %f, Train accuracy: %f, Val accuracy: %f\" % (ave_loss, train_accuracy, val_accuracy))\n",
    "        \n",
    "    return loss_history, train_history, val_history\n",
    "        \n",
    "def compute_accuracy(model, loader):\n",
    "    \"\"\"\n",
    "    Computes accuracy on the dataset wrapped in a loader\n",
    "    \n",
    "    Returns: accuracy as a float value between 0 and 1\n",
    "    \"\"\"\n",
    "    model.eval() # Evaluation mode\n",
    "    # TODO: Copy implementation from previous assignment\n",
    "    # Don't forget to move the data to device before running it through the model!\n",
    "    \n",
    "    total_samples = 0\n",
    "    correct_samples = 0\n",
    "    for i_step, (x, y) in enumerate(train_loader):\n",
    "        x_gpu = x.to(device)\n",
    "        y_gpu = y.to(device)\n",
    "      \n",
    "        prediction = model(x_gpu)\n",
    "\n",
    "        _, indices = torch.max(prediction, 1)\n",
    "\n",
    "        total_samples += y.shape[0]\n",
    "        correct_samples += torch.sum(indices == y_gpu)\n",
    "\n",
    "    return float(correct_samples) / total_samples\n",
    "\n",
    "\n",
    "loss_history, train_history, val_history = train_model(nn_model, train_loader, val_loader, loss, optimizer, 5)"
   ]
  },
  {
   "cell_type": "markdown",
   "metadata": {
    "id": "6a-3a1ZFGEw_"
   },
   "source": [
    "# Аугментация данных (Data augmentation)\n",
    "\n",
    "В работе с изображениями одним из особенно важных методов является аугментация данных - то есть, генерация дополнительных данных для тренировки на основе изначальных.   \n",
    "Таким образом, мы получаем возможность \"увеличить\" набор данных для тренировки, что ведет к лучшей работе сети.\n",
    "Важно, чтобы аугментированные данные были похожи на те, которые могут встретиться в реальной жизни, иначе польза от аугментаций уменьшается и может ухудшить работу сети.\n",
    "\n",
    "С PyTorch идут несколько таких алгоритмов, называемых `transforms`. Более подробно про них можно прочитать тут -\n",
    "https://pytorch.org/tutorials/beginner/data_loading_tutorial.html#transforms\n",
    "\n",
    "Ниже мы используем следующие алгоритмы генерации:\n",
    "- ColorJitter - случайное изменение цвета\n",
    "- RandomHorizontalFlip - горизонтальное отражение с вероятностью 50%\n",
    "- RandomVerticalFlip - вертикальное отражение с вероятностью 50%\n",
    "- RandomRotation - случайный поворот"
   ]
  },
  {
   "cell_type": "code",
   "execution_count": 9,
   "metadata": {
    "colab": {
     "base_uri": "https://localhost:8080/"
    },
    "id": "jCWMUWmr7t5g",
    "outputId": "8192e619-cd42-4c0b-c52b-b414a7650d50"
   },
   "outputs": [
    {
     "name": "stderr",
     "output_type": "stream",
     "text": [
      "/usr/local/lib/python3.8/dist-packages/torchvision/transforms/transforms.py:1200: UserWarning: Argument resample is deprecated and will be removed since v0.10.0. Please, use interpolation instead\n",
      "  warnings.warn(\n"
     ]
    }
   ],
   "source": [
    "tfs = transforms.Compose([\n",
    "    transforms.ColorJitter(hue=.50, saturation=.50),\n",
    "    transforms.RandomHorizontalFlip(),\n",
    "    transforms.RandomVerticalFlip(),\n",
    "    transforms.RandomRotation(50, resample=PIL.Image.BILINEAR),\n",
    "    transforms.ToTensor(),\n",
    "    transforms.Normalize(mean=[0.43,0.44,0.47],\n",
    "                       std=[0.20,0.20,0.20])                           \n",
    "])\n",
    "\n",
    "# Create augmented train dataset\n",
    "data_aug_train = dset.SVHN('./', \n",
    "                       transform=tfs\n",
    "                      )\n",
    "\n",
    "train_aug_loader = torch.utils.data.DataLoader(data_aug_train, batch_size=batch_size, \n",
    "                                           sampler=train_sampler)"
   ]
  },
  {
   "cell_type": "markdown",
   "metadata": {
    "id": "pkGfJLi2-YNG"
   },
   "source": [
    "Визуализируем результаты агментации (вообще, смотреть на сгенерированные данные всегда очень полезно)."
   ]
  },
  {
   "cell_type": "code",
   "execution_count": 10,
   "metadata": {
    "colab": {
     "base_uri": "https://localhost:8080/",
     "height": 587
    },
    "id": "YlJJEro1KZ45",
    "outputId": "dae79c3d-aca2-4557-c8c6-7fb4ee340610"
   },
   "outputs": [
    {
     "data": {
      "image/png": "[encoded data removed]",
      "text/plain": [
       "<Figure size 2160x720 with 40 Axes>"
      ]
     },
     "metadata": {
      "needs_background": "light"
     },
     "output_type": "display_data"
    }
   ],
   "source": [
    "# TODO: Visualize some augmented images!\n",
    "# hint: you can create new datasets and loaders to accomplish this\n",
    "\n",
    "# Based on the visualizations, should we keep all the augmentations?\n",
    "\n",
    "tfs = transforms.Compose([\n",
    "    transforms.ColorJitter(hue=.20, saturation=.20),\n",
    "    transforms.RandomHorizontalFlip(),\n",
    "    transforms.RandomVerticalFlip(),\n",
    "    transforms.RandomRotation(10, resample=PIL.Image.BILINEAR),\n",
    "])\n",
    "\n",
    "data_aug_vis = dset.SVHN('./', \n",
    "                       transform=tfs\n",
    "                      )\n",
    "\n",
    "plt.figure(figsize=(30, 10))\n",
    "\n",
    "for i, (x, y) in enumerate(data_aug_vis):\n",
    "    if i == 40:\n",
    "        break\n",
    "    plt.subplot(4, 10, i+1)\n",
    "    plt.grid(False)\n",
    "    plt.imshow(x)\n",
    "    plt.axis('off')"
   ]
  },
  {
   "cell_type": "markdown",
   "metadata": {
    "id": "o2LrmsYHoguB"
   },
   "source": [
    "Все ли агментации одинаково полезны на этом наборе данных? Могут ли быть среди них те, которые собьют модель с толку?\n",
    "\n",
    "Выберите из них только корректные"
   ]
  },
  {
   "cell_type": "code",
   "execution_count": 11,
   "metadata": {
    "colab": {
     "base_uri": "https://localhost:8080/"
    },
    "id": "evro9ksXGs9u",
    "outputId": "b1773e80-3cfe-4004-9ecd-e45e6488b1fe"
   },
   "outputs": [],
   "source": [
    "# TODO: \n",
    "\n",
    "tfs = transforms.Compose([\n",
    "    transforms.ColorJitter(hue=.50, saturation=.50),\n",
    "    transforms.RandomRotation(5, resample=PIL.Image.BILINEAR),\n",
    "    transforms.ToTensor(),\n",
    "    transforms.Normalize(mean=[0.43,0.44,0.47],\n",
    "                       std=[0.20,0.20,0.20])                           \n",
    "])\n",
    "\n",
    "# TODO create new instances of loaders with the augmentations you chose\n",
    "\n",
    "data_aug_train = dset.SVHN('./', transform=tfs)\n",
    "\n",
    "train_aug_loader = torch.utils.data.DataLoader(data_aug_train, batch_size=batch_size, \n",
    "                                           sampler=train_sampler)"
   ]
  },
  {
   "cell_type": "code",
   "execution_count": 12,
   "metadata": {
    "colab": {
     "base_uri": "https://localhost:8080/"
    },
    "id": "PeO6Zw0DHqPR",
    "outputId": "cc5d0a65-c08f-4302-9306-8d5d940d9be2"
   },
   "outputs": [
    {
     "name": "stdout",
     "output_type": "stream",
     "text": [
      "Average loss: 0.571353, Train accuracy: 0.826178, Val accuracy: 0.840068\n",
      "Average loss: 0.530834, Train accuracy: 0.840426, Val accuracy: 0.854964\n",
      "Average loss: 0.506871, Train accuracy: 0.848360, Val accuracy: 0.854639\n",
      "Average loss: 0.494968, Train accuracy: 0.852933, Val accuracy: 0.858154\n",
      "Average loss: 0.480200, Train accuracy: 0.854947, Val accuracy: 0.859110\n"
     ]
    }
   ],
   "source": [
    "# Finally, let's train with augmentations!\n",
    "\n",
    "# Note we shouldn't use augmentations on validation\n",
    "\n",
    "loss_history, train_history, val_history = train_model(nn_model, train_aug_loader, val_loader, loss, optimizer, 5)"
   ]
  },
  {
   "cell_type": "markdown",
   "metadata": {
    "id": "r0bcioK6JBDK"
   },
   "source": [
    "# LeNet\n",
    "Попробуем имплементировать классическую архитектуру сверточной нейронной сети, предложенную Яном ЛеКуном в 1998 году. В свое время она достигла впечатляющих результатов на MNIST, посмотрим как она справится с SVHN?\n",
    "Она описана в статье [\"Gradient Based Learning Applied to Document Recognition\"](http://yann.lecun.com/exdb/publis/pdf/lecun-01a.pdf), попробуйте прочитать ключевые части и имплементировать предложенную архитетуру на PyTorch.\n",
    "\n",
    "Реализовывать слои и функцию ошибки LeNet, которых нет в PyTorch, **не нужно** - просто возьмите их размеры и переведите в уже известные нам Convolutional, Pooling и Fully Connected layers.\n",
    "\n",
    "Если в статье не очень понятно, можно просто погуглить LeNet и разобраться в деталях :)"
   ]
  },
  {
   "cell_type": "code",
   "execution_count": 13,
   "metadata": {
    "id": "ieEzZUglJAUB"
   },
   "outputs": [],
   "source": [
    "# TODO: Implement LeNet-like architecture for SVHN task\n",
    "lenet_model = nn.Sequential(\n",
    "            nn.Conv2d(3, 6, 5),\n",
    "            nn.ReLU(inplace=True),\n",
    "            nn.MaxPool2d(2, stride=2),\n",
    "\n",
    "            nn.Conv2d(6, 16, 5),\n",
    "            nn.ReLU(inplace=True),\n",
    "            nn.MaxPool2d(2, stride=2),  \n",
    "            \n",
    "            Flattener(),\n",
    "\n",
    "            nn.Linear(16*5*5, 120), \n",
    "            nn.ReLU(inplace=True),\n",
    "\n",
    "            nn.Linear(120, 84),\n",
    "            nn.ReLU(inplace=True),\n",
    "\n",
    "            nn.Linear(84, 10),\n",
    "          )\n",
    "\n",
    "lenet_model.type(torch.cuda.FloatTensor)\n",
    "lenet_model.to(device)\n",
    "\n",
    "loss = nn.CrossEntropyLoss().type(torch.cuda.FloatTensor)\n",
    "optimizer = optim.SGD(lenet_model.parameters(), lr=1e-1, weight_decay=1e-4)"
   ]
  },
  {
   "cell_type": "code",
   "execution_count": 15,
   "metadata": {
    "colab": {
     "base_uri": "https://localhost:8080/"
    },
    "id": "WMmaPfdeKk9H",
    "outputId": "ad2bd4f7-3ec8-480a-b89e-b63e63ff72a6"
   },
   "outputs": [
    {
     "name": "stdout",
     "output_type": "stream",
     "text": [
      "Average loss: 0.256022, Train accuracy: 0.921373, Val accuracy: 0.938624\n",
      "Average loss: 0.241700, Train accuracy: 0.925247, Val accuracy: 0.943948\n",
      "Average loss: 0.235107, Train accuracy: 0.926731, Val accuracy: 0.935092\n",
      "Average loss: 0.229611, Train accuracy: 0.928130, Val accuracy: 0.949698\n",
      "Average loss: 0.217820, Train accuracy: 0.932311, Val accuracy: 0.940006\n",
      "Average loss: 0.218568, Train accuracy: 0.932481, Val accuracy: 0.948111\n",
      "Average loss: 0.209574, Train accuracy: 0.935024, Val accuracy: 0.951046\n",
      "Average loss: 0.206099, Train accuracy: 0.934904, Val accuracy: 0.937498\n",
      "Average loss: 0.199452, Train accuracy: 0.937634, Val accuracy: 0.956199\n",
      "Average loss: 0.191570, Train accuracy: 0.939597, Val accuracy: 0.953367\n"
     ]
    }
   ],
   "source": [
    "# Let's train it!\n",
    "loss_history, train_history, val_history = train_model(lenet_model, train_aug_loader, val_loader, loss, optimizer, 10)"
   ]
  },
  {
   "cell_type": "markdown",
   "metadata": {
    "id": "u_O9qiYySvuj"
   },
   "source": [
    "# Подбор гиперпараметров"
   ]
  },
  {
   "cell_type": "code",
   "execution_count": 19,
   "metadata": {
    "colab": {
     "base_uri": "https://localhost:8080/"
    },
    "id": "i6mhfdQ9K-N3",
    "outputId": "e3c947b0-b31a-40db-ab15-c39b9cd90bc8"
   },
   "outputs": [
    {
     "name": "stdout",
     "output_type": "stream",
     "text": [
      "\n",
      "Current hyperparams: Hyperparams(learning_rate=0.1, anneal_epochs=1, reg=0.001)\n",
      "Average loss: 1.324309, Train accuracy: 0.550592, Val accuracy: 0.820360\n",
      "Average loss: 0.490448, Train accuracy: 0.855100, Val accuracy: 0.876514\n",
      "Average loss: 0.433875, Train accuracy: 0.872812, Val accuracy: 0.883647\n",
      "Average loss: 0.422555, Train accuracy: 0.875474, Val accuracy: 0.884483\n",
      "Average loss: 0.420207, Train accuracy: 0.876890, Val accuracy: 0.884790\n",
      "Average loss: 0.419079, Train accuracy: 0.876293, Val accuracy: 0.884892\n",
      "Average loss: 0.420207, Train accuracy: 0.876890, Val accuracy: 0.884892\n",
      "Average loss: 0.420815, Train accuracy: 0.876327, Val accuracy: 0.884892\n",
      "Average loss: 0.419804, Train accuracy: 0.876378, Val accuracy: 0.884892\n",
      "Average loss: 0.418583, Train accuracy: 0.877743, Val accuracy: 0.884892\n",
      "\n",
      "Current best validation accuracy: 0.88, best hyperparams: Hyperparams(learning_rate=0.1, anneal_epochs=1, reg=0.001)\n",
      "\n",
      "Current hyperparams: Hyperparams(learning_rate=0.1, anneal_epochs=2, reg=0.001)\n",
      "Average loss: 1.421429, Train accuracy: 0.520100, Val accuracy: 0.810002\n",
      "Average loss: 0.559679, Train accuracy: 0.834744, Val accuracy: 0.856346\n",
      "Average loss: 0.395342, Train accuracy: 0.883937, Val accuracy: 0.900403\n",
      "Average loss: 0.366359, Train accuracy: 0.892571, Val accuracy: 0.905419\n",
      "Average loss: 0.334362, Train accuracy: 0.901205, Val accuracy: 0.911289\n",
      "Average loss: 0.329864, Train accuracy: 0.903116, Val accuracy: 0.911255\n",
      "Average loss: 0.321869, Train accuracy: 0.905197, Val accuracy: 0.912535\n",
      "Average loss: 0.319639, Train accuracy: 0.905658, Val accuracy: 0.912449\n",
      "Average loss: 0.320536, Train accuracy: 0.906289, Val accuracy: 0.912756\n",
      "Average loss: 0.319396, Train accuracy: 0.905487, Val accuracy: 0.912705\n",
      "\n",
      "Current best validation accuracy: 0.91, best hyperparams: Hyperparams(learning_rate=0.1, anneal_epochs=2, reg=0.001)\n",
      "\n",
      "Current hyperparams: Hyperparams(learning_rate=0.1, anneal_epochs=5, reg=0.001)\n",
      "Average loss: 1.487061, Train accuracy: 0.494028, Val accuracy: 0.791472\n",
      "Average loss: 0.571368, Train accuracy: 0.830325, Val accuracy: 0.865543\n",
      "Average loss: 0.466027, Train accuracy: 0.861738, Val accuracy: 0.861891\n",
      "Average loss: 0.413073, Train accuracy: 0.876958, Val accuracy: 0.905573\n",
      "Average loss: 0.380794, Train accuracy: 0.887213, Val accuracy: 0.896120\n",
      "Average loss: 0.285116, Train accuracy: 0.917585, Val accuracy: 0.931731\n",
      "Average loss: 0.264316, Train accuracy: 0.923387, Val accuracy: 0.934546\n",
      "Average loss: 0.255255, Train accuracy: 0.926390, Val accuracy: 0.938948\n",
      "Average loss: 0.246178, Train accuracy: 0.927772, Val accuracy: 0.941030\n",
      "Average loss: 0.238279, Train accuracy: 0.930809, Val accuracy: 0.943897\n",
      "\n",
      "Current best validation accuracy: 0.94, best hyperparams: Hyperparams(learning_rate=0.1, anneal_epochs=5, reg=0.001)\n",
      "\n",
      "Current hyperparams: Hyperparams(learning_rate=0.1, anneal_epochs=10, reg=0.001)\n",
      "Average loss: 1.519345, Train accuracy: 0.478620, Val accuracy: 0.803467\n",
      "Average loss: 0.563702, Train accuracy: 0.830615, Val accuracy: 0.870730\n",
      "Average loss: 0.459284, Train accuracy: 0.862659, Val accuracy: 0.866754\n",
      "Average loss: 0.407921, Train accuracy: 0.878255, Val accuracy: 0.906614\n",
      "Average loss: 0.377655, Train accuracy: 0.887366, Val accuracy: 0.913285\n",
      "Average loss: 0.348793, Train accuracy: 0.896154, Val accuracy: 0.918575\n",
      "Average loss: 0.330848, Train accuracy: 0.900249, Val accuracy: 0.924240\n",
      "Average loss: 0.316504, Train accuracy: 0.904532, Val accuracy: 0.921783\n",
      "Average loss: 0.301634, Train accuracy: 0.909497, Val accuracy: 0.920964\n",
      "Average loss: 0.290628, Train accuracy: 0.911408, Val accuracy: 0.917380\n",
      "\n",
      "Current best validation accuracy: 0.94, best hyperparams: Hyperparams(learning_rate=0.1, anneal_epochs=5, reg=0.001)\n",
      "\n",
      "Current hyperparams: Hyperparams(learning_rate=0.1, anneal_epochs=1, reg=0.0001)\n",
      "Average loss: 1.303971, Train accuracy: 0.564464, Val accuracy: 0.801607\n",
      "Average loss: 0.492561, Train accuracy: 0.856158, Val accuracy: 0.879927\n",
      "Average loss: 0.433974, Train accuracy: 0.874245, Val accuracy: 0.884159\n",
      "Average loss: 0.421738, Train accuracy: 0.878187, Val accuracy: 0.885438\n",
      "Average loss: 0.420206, Train accuracy: 0.878408, Val accuracy: 0.885882\n",
      "Average loss: 0.418931, Train accuracy: 0.878442, Val accuracy: 0.886070\n",
      "Average loss: 0.418277, Train accuracy: 0.878460, Val accuracy: 0.886053\n",
      "Average loss: 0.418159, Train accuracy: 0.878784, Val accuracy: 0.886053\n",
      "Average loss: 0.419717, Train accuracy: 0.878408, Val accuracy: 0.886053\n",
      "Average loss: 0.417760, Train accuracy: 0.879722, Val accuracy: 0.886053\n",
      "\n",
      "Current best validation accuracy: 0.94, best hyperparams: Hyperparams(learning_rate=0.1, anneal_epochs=5, reg=0.001)\n",
      "\n",
      "Current hyperparams: Hyperparams(learning_rate=0.1, anneal_epochs=2, reg=0.0001)\n",
      "Average loss: 1.404149, Train accuracy: 0.520373, Val accuracy: 0.830256\n",
      "Average loss: 0.533633, Train accuracy: 0.841893, Val accuracy: 0.879483\n",
      "Average loss: 0.373773, Train accuracy: 0.888578, Val accuracy: 0.906682\n",
      "Average loss: 0.344421, Train accuracy: 0.899072, Val accuracy: 0.911306\n",
      "Average loss: 0.315450, Train accuracy: 0.907945, Val accuracy: 0.915555\n",
      "Average loss: 0.309500, Train accuracy: 0.909327, Val accuracy: 0.917176\n",
      "Average loss: 0.301934, Train accuracy: 0.910777, Val accuracy: 0.918370\n",
      "Average loss: 0.300804, Train accuracy: 0.911272, Val accuracy: 0.918711\n",
      "Average loss: 0.300636, Train accuracy: 0.911374, Val accuracy: 0.918831\n",
      "Average loss: 0.300318, Train accuracy: 0.911937, Val accuracy: 0.918831\n",
      "\n",
      "Current best validation accuracy: 0.94, best hyperparams: Hyperparams(learning_rate=0.1, anneal_epochs=5, reg=0.001)\n",
      "\n",
      "Current hyperparams: Hyperparams(learning_rate=0.1, anneal_epochs=5, reg=0.0001)\n",
      "Average loss: 1.415774, Train accuracy: 0.518957, Val accuracy: 0.825871\n",
      "Average loss: 0.533369, Train accuracy: 0.842252, Val accuracy: 0.860117\n",
      "Average loss: 0.435834, Train accuracy: 0.871157, Val accuracy: 0.904634\n",
      "Average loss: 0.381758, Train accuracy: 0.886001, Val accuracy: 0.893322\n",
      "Average loss: 0.349013, Train accuracy: 0.895915, Val accuracy: 0.918455\n",
      "Average loss: 0.254757, Train accuracy: 0.924888, Val accuracy: 0.937839\n",
      "Average loss: 0.235361, Train accuracy: 0.930178, Val accuracy: 0.943060\n",
      "Average loss: 0.224411, Train accuracy: 0.934171, Val accuracy: 0.946473\n",
      "Average loss: 0.214234, Train accuracy: 0.936952, Val accuracy: 0.949852\n",
      "Average loss: 0.206937, Train accuracy: 0.938931, Val accuracy: 0.949084\n",
      "\n",
      "Current best validation accuracy: 0.95, best hyperparams: Hyperparams(learning_rate=0.1, anneal_epochs=5, reg=0.0001)\n",
      "\n",
      "Current hyperparams: Hyperparams(learning_rate=0.1, anneal_epochs=10, reg=0.0001)\n",
      "Average loss: 1.507784, Train accuracy: 0.483688, Val accuracy: 0.827407\n",
      "Average loss: 0.547891, Train accuracy: 0.836791, Val accuracy: 0.844060\n",
      "Average loss: 0.442929, Train accuracy: 0.867232, Val accuracy: 0.888595\n",
      "Average loss: 0.390202, Train accuracy: 0.882623, Val accuracy: 0.906136\n",
      "Average loss: 0.349500, Train accuracy: 0.894942, Val accuracy: 0.906989\n",
      "Average loss: 0.326266, Train accuracy: 0.901648, Val accuracy: 0.915572\n",
      "Average loss: 0.304825, Train accuracy: 0.907194, Val accuracy: 0.926560\n",
      "Average loss: 0.284245, Train accuracy: 0.913865, Val accuracy: 0.930365\n",
      "Average loss: 0.269721, Train accuracy: 0.917517, Val accuracy: 0.927721\n",
      "Average loss: 0.253680, Train accuracy: 0.920674, Val accuracy: 0.937157\n",
      "\n",
      "Current best validation accuracy: 0.95, best hyperparams: Hyperparams(learning_rate=0.1, anneal_epochs=5, reg=0.0001)\n",
      "\n",
      "Current hyperparams: Hyperparams(learning_rate=0.01, anneal_epochs=1, reg=0.001)\n",
      "Average loss: 2.254745, Train accuracy: 0.183104, Val accuracy: 0.188991\n",
      "Average loss: 2.238132, Train accuracy: 0.188991, Val accuracy: 0.188991\n",
      "Average loss: 2.237384, Train accuracy: 0.188991, Val accuracy: 0.188991\n",
      "Average loss: 2.237146, Train accuracy: 0.188991, Val accuracy: 0.188991\n",
      "Average loss: 2.237169, Train accuracy: 0.188991, Val accuracy: 0.188991\n",
      "Average loss: 2.237199, Train accuracy: 0.188991, Val accuracy: 0.188991\n",
      "Average loss: 2.237102, Train accuracy: 0.188991, Val accuracy: 0.188991\n",
      "Average loss: 2.237089, Train accuracy: 0.188991, Val accuracy: 0.188991\n",
      "Average loss: 2.237170, Train accuracy: 0.188991, Val accuracy: 0.188991\n",
      "Average loss: 2.237078, Train accuracy: 0.188991, Val accuracy: 0.188991\n",
      "\n",
      "Current best validation accuracy: 0.95, best hyperparams: Hyperparams(learning_rate=0.1, anneal_epochs=5, reg=0.0001)\n",
      "\n",
      "Current hyperparams: Hyperparams(learning_rate=0.01, anneal_epochs=2, reg=0.001)\n",
      "Average loss: 2.250519, Train accuracy: 0.179794, Val accuracy: 0.188991\n",
      "Average loss: 2.173466, Train accuracy: 0.211395, Val accuracy: 0.301249\n",
      "Average loss: 1.910937, Train accuracy: 0.368341, Val accuracy: 0.421203\n",
      "Average loss: 1.706861, Train accuracy: 0.455738, Val accuracy: 0.517899\n",
      "Average loss: 1.550616, Train accuracy: 0.515903, Val accuracy: 0.530458\n",
      "Average loss: 1.499056, Train accuracy: 0.531942, Val accuracy: 0.551974\n",
      "Average loss: 1.468488, Train accuracy: 0.545320, Val accuracy: 0.555216\n",
      "Average loss: 1.458174, Train accuracy: 0.548152, Val accuracy: 0.558561\n",
      "Average loss: 1.452402, Train accuracy: 0.548903, Val accuracy: 0.559448\n",
      "Average loss: 1.450016, Train accuracy: 0.550200, Val accuracy: 0.559909\n",
      "\n",
      "Current best validation accuracy: 0.95, best hyperparams: Hyperparams(learning_rate=0.1, anneal_epochs=5, reg=0.0001)\n",
      "\n",
      "Current hyperparams: Hyperparams(learning_rate=0.01, anneal_epochs=5, reg=0.001)\n",
      "Average loss: 2.250666, Train accuracy: 0.188991, Val accuracy: 0.188991\n",
      "Average loss: 2.231886, Train accuracy: 0.188991, Val accuracy: 0.188991\n",
      "Average loss: 2.143218, Train accuracy: 0.224329, Val accuracy: 0.363615\n",
      "Average loss: 1.311818, Train accuracy: 0.576801, Val accuracy: 0.724414\n",
      "Average loss: 0.811170, Train accuracy: 0.761185, Val accuracy: 0.792598\n",
      "Average loss: 0.661433, Train accuracy: 0.811402, Val accuracy: 0.826042\n",
      "Average loss: 0.637234, Train accuracy: 0.818636, Val accuracy: 0.833515\n",
      "Average loss: 0.617678, Train accuracy: 0.824028, Val accuracy: 0.837645\n",
      "Average loss: 0.601841, Train accuracy: 0.829062, Val accuracy: 0.841518\n",
      "Average loss: 0.583382, Train accuracy: 0.834505, Val accuracy: 0.846756\n",
      "\n",
      "Current best validation accuracy: 0.95, best hyperparams: Hyperparams(learning_rate=0.1, anneal_epochs=5, reg=0.0001)\n",
      "\n",
      "Current hyperparams: Hyperparams(learning_rate=0.01, anneal_epochs=10, reg=0.001)\n",
      "Average loss: 2.250192, Train accuracy: 0.181841, Val accuracy: 0.188991\n",
      "Average loss: 2.231238, Train accuracy: 0.189110, Val accuracy: 0.189725\n",
      "Average loss: 2.095491, Train accuracy: 0.261594, Val accuracy: 0.472221\n",
      "Average loss: 1.121530, Train accuracy: 0.651674, Val accuracy: 0.786728\n",
      "Average loss: 0.718678, Train accuracy: 0.792325, Val accuracy: 0.830802\n",
      "Average loss: 0.610046, Train accuracy: 0.824762, Val accuracy: 0.845323\n",
      "Average loss: 0.556683, Train accuracy: 0.841910, Val accuracy: 0.841723\n",
      "Average loss: 0.518491, Train accuracy: 0.850954, Val accuracy: 0.862744\n",
      "Average loss: 0.486368, Train accuracy: 0.860356, Val accuracy: 0.872863\n",
      "Average loss: 0.463067, Train accuracy: 0.867795, Val accuracy: 0.878101\n",
      "\n",
      "Current best validation accuracy: 0.95, best hyperparams: Hyperparams(learning_rate=0.1, anneal_epochs=5, reg=0.0001)\n",
      "\n",
      "Current hyperparams: Hyperparams(learning_rate=0.01, anneal_epochs=1, reg=0.0001)\n",
      "Average loss: 2.253546, Train accuracy: 0.183957, Val accuracy: 0.188991\n",
      "Average loss: 2.236821, Train accuracy: 0.188991, Val accuracy: 0.188991\n",
      "Average loss: 2.235557, Train accuracy: 0.188991, Val accuracy: 0.188991\n",
      "Average loss: 2.235380, Train accuracy: 0.188991, Val accuracy: 0.188991\n",
      "Average loss: 2.235305, Train accuracy: 0.188991, Val accuracy: 0.188991\n",
      "Average loss: 2.235309, Train accuracy: 0.188991, Val accuracy: 0.188991\n",
      "Average loss: 2.235386, Train accuracy: 0.188991, Val accuracy: 0.188991\n",
      "Average loss: 2.235310, Train accuracy: 0.188991, Val accuracy: 0.188991\n",
      "Average loss: 2.235304, Train accuracy: 0.188991, Val accuracy: 0.188991\n",
      "Average loss: 2.235474, Train accuracy: 0.188991, Val accuracy: 0.188991\n",
      "\n",
      "Current best validation accuracy: 0.95, best hyperparams: Hyperparams(learning_rate=0.1, anneal_epochs=5, reg=0.0001)\n",
      "\n",
      "Current hyperparams: Hyperparams(learning_rate=0.01, anneal_epochs=2, reg=0.0001)\n",
      "Average loss: 2.251710, Train accuracy: 0.180016, Val accuracy: 0.188991\n",
      "Average loss: 2.185387, Train accuracy: 0.204194, Val accuracy: 0.307835\n",
      "Average loss: 1.940391, Train accuracy: 0.343224, Val accuracy: 0.407893\n",
      "Average loss: 1.702147, Train accuracy: 0.444323, Val accuracy: 0.502406\n",
      "Average loss: 1.543001, Train accuracy: 0.507201, Val accuracy: 0.526345\n",
      "Average loss: 1.493554, Train accuracy: 0.525680, Val accuracy: 0.545388\n",
      "Average loss: 1.461961, Train accuracy: 0.536566, Val accuracy: 0.550541\n",
      "Average loss: 1.451654, Train accuracy: 0.541293, Val accuracy: 0.552861\n",
      "Average loss: 1.444458, Train accuracy: 0.543869, Val accuracy: 0.553749\n",
      "Average loss: 1.442694, Train accuracy: 0.545610, Val accuracy: 0.554773\n",
      "\n",
      "Current best validation accuracy: 0.95, best hyperparams: Hyperparams(learning_rate=0.1, anneal_epochs=5, reg=0.0001)\n",
      "\n",
      "Current hyperparams: Hyperparams(learning_rate=0.01, anneal_epochs=5, reg=0.0001)\n",
      "Average loss: 2.252188, Train accuracy: 0.189008, Val accuracy: 0.188991\n",
      "Average loss: 2.214797, Train accuracy: 0.190185, Val accuracy: 0.226376\n",
      "Average loss: 1.672189, Train accuracy: 0.441201, Val accuracy: 0.640941\n",
      "Average loss: 0.893235, Train accuracy: 0.732058, Val accuracy: 0.791711\n",
      "Average loss: 0.660158, Train accuracy: 0.809013, Val accuracy: 0.839504\n",
      "Average loss: 0.574860, Train accuracy: 0.835392, Val accuracy: 0.847268\n",
      "Average loss: 0.560822, Train accuracy: 0.840187, Val accuracy: 0.850954\n",
      "Average loss: 0.546687, Train accuracy: 0.844350, Val accuracy: 0.853718\n",
      "Average loss: 0.536682, Train accuracy: 0.848121, Val accuracy: 0.857404\n",
      "Average loss: 0.527332, Train accuracy: 0.850459, Val accuracy: 0.860594\n",
      "\n",
      "Current best validation accuracy: 0.95, best hyperparams: Hyperparams(learning_rate=0.1, anneal_epochs=5, reg=0.0001)\n",
      "\n",
      "Current hyperparams: Hyperparams(learning_rate=0.01, anneal_epochs=10, reg=0.0001)\n",
      "Average loss: 2.256314, Train accuracy: 0.184554, Val accuracy: 0.188991\n",
      "Average loss: 2.229221, Train accuracy: 0.189383, Val accuracy: 0.192694\n",
      "Average loss: 1.879776, Train accuracy: 0.347695, Val accuracy: 0.556257\n",
      "Average loss: 1.017219, Train accuracy: 0.685425, Val accuracy: 0.745384\n",
      "Average loss: 0.729677, Train accuracy: 0.785705, Val accuracy: 0.815036\n",
      "Average loss: 0.625998, Train accuracy: 0.817357, Val accuracy: 0.833208\n",
      "Average loss: 0.563406, Train accuracy: 0.837252, Val accuracy: 0.854230\n",
      "Average loss: 0.523769, Train accuracy: 0.846825, Val accuracy: 0.861908\n",
      "Average loss: 0.493519, Train accuracy: 0.855424, Val accuracy: 0.863615\n",
      "Average loss: 0.463756, Train accuracy: 0.864092, Val accuracy: 0.877197\n",
      "\n",
      "Current best validation accuracy: 0.95, best hyperparams: Hyperparams(learning_rate=0.1, anneal_epochs=5, reg=0.0001)\n",
      "\n",
      "Current hyperparams: Hyperparams(learning_rate=0.001, anneal_epochs=1, reg=0.001)\n",
      "Average loss: 2.289614, Train accuracy: 0.179760, Val accuracy: 0.188991\n",
      "Average loss: 2.280184, Train accuracy: 0.188991, Val accuracy: 0.188991\n",
      "Average loss: 2.278464, Train accuracy: 0.188991, Val accuracy: 0.188991\n",
      "Average loss: 2.278122, Train accuracy: 0.188991, Val accuracy: 0.188991\n",
      "Average loss: 2.278036, Train accuracy: 0.188991, Val accuracy: 0.188991\n",
      "Average loss: 2.278056, Train accuracy: 0.188991, Val accuracy: 0.188991\n",
      "Average loss: 2.278066, Train accuracy: 0.188991, Val accuracy: 0.188991\n",
      "Average loss: 2.278057, Train accuracy: 0.188991, Val accuracy: 0.188991\n",
      "Average loss: 2.278033, Train accuracy: 0.188991, Val accuracy: 0.188991\n",
      "Average loss: 2.278051, Train accuracy: 0.188991, Val accuracy: 0.188991\n",
      "\n",
      "Current best validation accuracy: 0.95, best hyperparams: Hyperparams(learning_rate=0.1, anneal_epochs=5, reg=0.0001)\n",
      "\n",
      "Current hyperparams: Hyperparams(learning_rate=0.001, anneal_epochs=2, reg=0.001)\n",
      "Average loss: 2.286250, Train accuracy: 0.180630, Val accuracy: 0.188991\n",
      "Average loss: 2.273212, Train accuracy: 0.188991, Val accuracy: 0.188991\n",
      "Average loss: 2.266722, Train accuracy: 0.188991, Val accuracy: 0.188991\n",
      "Average loss: 2.264797, Train accuracy: 0.188991, Val accuracy: 0.188991\n",
      "Average loss: 2.263673, Train accuracy: 0.188991, Val accuracy: 0.188991\n",
      "Average loss: 2.263248, Train accuracy: 0.188991, Val accuracy: 0.188991\n",
      "Average loss: 2.263034, Train accuracy: 0.188991, Val accuracy: 0.188991\n",
      "Average loss: 2.262981, Train accuracy: 0.188991, Val accuracy: 0.188991\n",
      "Average loss: 2.262951, Train accuracy: 0.188991, Val accuracy: 0.188991\n",
      "Average loss: 2.262941, Train accuracy: 0.188991, Val accuracy: 0.188991\n",
      "\n",
      "Current best validation accuracy: 0.95, best hyperparams: Hyperparams(learning_rate=0.1, anneal_epochs=5, reg=0.0001)\n",
      "\n",
      "Current hyperparams: Hyperparams(learning_rate=0.001, anneal_epochs=5, reg=0.001)\n",
      "Average loss: 2.310341, Train accuracy: 0.088830, Val accuracy: 0.163738\n",
      "Average loss: 2.291431, Train accuracy: 0.188155, Val accuracy: 0.188991\n",
      "Average loss: 2.274555, Train accuracy: 0.188991, Val accuracy: 0.188991\n",
      "Average loss: 2.258567, Train accuracy: 0.188991, Val accuracy: 0.188991\n",
      "Average loss: 2.247078, Train accuracy: 0.188991, Val accuracy: 0.188991\n",
      "Average loss: 2.243338, Train accuracy: 0.188991, Val accuracy: 0.188991\n",
      "Average loss: 2.242389, Train accuracy: 0.188991, Val accuracy: 0.188991\n",
      "Average loss: 2.241766, Train accuracy: 0.188991, Val accuracy: 0.188991\n",
      "Average loss: 2.241289, Train accuracy: 0.188991, Val accuracy: 0.188991\n",
      "Average loss: 2.241002, Train accuracy: 0.188991, Val accuracy: 0.188991\n",
      "\n",
      "Current best validation accuracy: 0.95, best hyperparams: Hyperparams(learning_rate=0.1, anneal_epochs=5, reg=0.0001)\n",
      "\n",
      "Current hyperparams: Hyperparams(learning_rate=0.001, anneal_epochs=10, reg=0.001)\n",
      "Average loss: 2.296091, Train accuracy: 0.111268, Val accuracy: 0.172030\n",
      "Average loss: 2.277411, Train accuracy: 0.189008, Val accuracy: 0.189008\n",
      "Average loss: 2.259100, Train accuracy: 0.188991, Val accuracy: 0.188991\n",
      "Average loss: 2.246175, Train accuracy: 0.188991, Val accuracy: 0.188991\n",
      "Average loss: 2.241410, Train accuracy: 0.188991, Val accuracy: 0.188991\n",
      "Average loss: 2.239420, Train accuracy: 0.188991, Val accuracy: 0.188991\n",
      "Average loss: 2.237955, Train accuracy: 0.188991, Val accuracy: 0.188991\n",
      "Average loss: 2.236401, Train accuracy: 0.188991, Val accuracy: 0.188991\n",
      "Average loss: 2.234834, Train accuracy: 0.188991, Val accuracy: 0.188991\n",
      "Average loss: 2.232936, Train accuracy: 0.188991, Val accuracy: 0.188991\n",
      "\n",
      "Current best validation accuracy: 0.95, best hyperparams: Hyperparams(learning_rate=0.1, anneal_epochs=5, reg=0.0001)\n",
      "\n",
      "Current hyperparams: Hyperparams(learning_rate=0.001, anneal_epochs=1, reg=0.0001)\n",
      "Average loss: 2.299677, Train accuracy: 0.103300, Val accuracy: 0.178770\n",
      "Average loss: 2.285309, Train accuracy: 0.183360, Val accuracy: 0.186943\n",
      "Average loss: 2.282566, Train accuracy: 0.188087, Val accuracy: 0.187660\n",
      "Average loss: 2.282016, Train accuracy: 0.188121, Val accuracy: 0.187950\n",
      "Average loss: 2.281856, Train accuracy: 0.187762, Val accuracy: 0.187984\n",
      "Average loss: 2.281887, Train accuracy: 0.188052, Val accuracy: 0.187967\n",
      "Average loss: 2.281876, Train accuracy: 0.188308, Val accuracy: 0.187967\n",
      "Average loss: 2.281872, Train accuracy: 0.188325, Val accuracy: 0.187967\n",
      "Average loss: 2.281881, Train accuracy: 0.188360, Val accuracy: 0.187967\n",
      "Average loss: 2.281915, Train accuracy: 0.188155, Val accuracy: 0.187967\n",
      "\n",
      "Current best validation accuracy: 0.95, best hyperparams: Hyperparams(learning_rate=0.1, anneal_epochs=5, reg=0.0001)\n",
      "\n",
      "Current hyperparams: Hyperparams(learning_rate=0.001, anneal_epochs=2, reg=0.0001)\n",
      "Average loss: 2.297525, Train accuracy: 0.104921, Val accuracy: 0.189059\n",
      "Average loss: 2.276020, Train accuracy: 0.188991, Val accuracy: 0.188991\n",
      "Average loss: 2.265474, Train accuracy: 0.188991, Val accuracy: 0.188991\n",
      "Average loss: 2.262847, Train accuracy: 0.188991, Val accuracy: 0.188991\n",
      "Average loss: 2.261529, Train accuracy: 0.188991, Val accuracy: 0.188991\n",
      "Average loss: 2.261130, Train accuracy: 0.188991, Val accuracy: 0.188991\n",
      "Average loss: 2.260847, Train accuracy: 0.188991, Val accuracy: 0.188991\n",
      "Average loss: 2.260773, Train accuracy: 0.188991, Val accuracy: 0.188991\n",
      "Average loss: 2.260703, Train accuracy: 0.188991, Val accuracy: 0.188991\n",
      "Average loss: 2.260710, Train accuracy: 0.188991, Val accuracy: 0.188991\n",
      "\n",
      "Current best validation accuracy: 0.95, best hyperparams: Hyperparams(learning_rate=0.1, anneal_epochs=5, reg=0.0001)\n",
      "\n",
      "Current hyperparams: Hyperparams(learning_rate=0.001, anneal_epochs=5, reg=0.0001)\n",
      "Average loss: 2.294491, Train accuracy: 0.118128, Val accuracy: 0.125738\n",
      "Average loss: 2.274030, Train accuracy: 0.165546, Val accuracy: 0.188991\n",
      "Average loss: 2.257157, Train accuracy: 0.188991, Val accuracy: 0.188991\n",
      "Average loss: 2.247619, Train accuracy: 0.188991, Val accuracy: 0.188991\n",
      "Average loss: 2.242553, Train accuracy: 0.188991, Val accuracy: 0.188991\n",
      "Average loss: 2.240652, Train accuracy: 0.188991, Val accuracy: 0.188991\n",
      "Average loss: 2.240114, Train accuracy: 0.188991, Val accuracy: 0.188991\n",
      "Average loss: 2.239786, Train accuracy: 0.188991, Val accuracy: 0.188991\n",
      "Average loss: 2.239325, Train accuracy: 0.188991, Val accuracy: 0.188991\n",
      "Average loss: 2.239079, Train accuracy: 0.188991, Val accuracy: 0.188991\n",
      "\n",
      "Current best validation accuracy: 0.95, best hyperparams: Hyperparams(learning_rate=0.1, anneal_epochs=5, reg=0.0001)\n",
      "\n",
      "Current hyperparams: Hyperparams(learning_rate=0.001, anneal_epochs=10, reg=0.0001)\n",
      "Average loss: 2.293113, Train accuracy: 0.149763, Val accuracy: 0.188991\n",
      "Average loss: 2.275824, Train accuracy: 0.188991, Val accuracy: 0.188991\n",
      "Average loss: 2.258590, Train accuracy: 0.188991, Val accuracy: 0.188991\n",
      "Average loss: 2.246183, Train accuracy: 0.188991, Val accuracy: 0.188991\n",
      "Average loss: 2.241475, Train accuracy: 0.188991, Val accuracy: 0.188991\n",
      "Average loss: 2.239848, Train accuracy: 0.188991, Val accuracy: 0.188991\n",
      "Average loss: 2.238744, Train accuracy: 0.188991, Val accuracy: 0.188991\n",
      "Average loss: 2.238118, Train accuracy: 0.188991, Val accuracy: 0.188991\n",
      "Average loss: 2.237317, Train accuracy: 0.188991, Val accuracy: 0.188991\n",
      "Average loss: 2.236468, Train accuracy: 0.188991, Val accuracy: 0.188991\n",
      "\n",
      "Current best validation accuracy: 0.95, best hyperparams: Hyperparams(learning_rate=0.1, anneal_epochs=5, reg=0.0001)\n"
     ]
    }
   ],
   "source": [
    "# The key hyperparameters we're going to tune are learning speed, annealing rate and regularization\n",
    "# We also encourage you to try different optimizers as well\n",
    "\n",
    "Hyperparams = namedtuple(\"Hyperparams\", ['learning_rate', 'anneal_epochs', 'reg'])\n",
    "RunResult = namedtuple(\"RunResult\", ['model', 'train_history', 'val_history', 'final_val_accuracy'])\n",
    "\n",
    "learning_rates = [1e-1, 1e-2, 1e-3]\n",
    "anneal_coeff = 0.2\n",
    "anneal_epochs = [1, 2, 5, 10]\n",
    "regs = [1e-3, 1e-4]\n",
    "optimizers = [optim.SGD]\n",
    "\n",
    "batch_size = 64\n",
    "epoch_num = 10\n",
    "\n",
    "# Record all the runs here\n",
    "# Key should be Hyperparams and values should be RunResult\n",
    "run_record = {} \n",
    "\n",
    "# Use grid search or random search and record all runs in run_record dictionnary \n",
    "# Important: perform search in logarithmic space!\n",
    "\n",
    "# TODO: Your code here!\n",
    "from itertools import product\n",
    "\n",
    "best_hyperparams = Hyperparams(None, None, None)\n",
    "best_result = RunResult(None, None, None, None)\n",
    "\n",
    "for lr, reg, anneal_epoch, optimizer in product(learning_rates, regs, anneal_epochs, optimizers):\n",
    "    lenet_model = nn.Sequential(\n",
    "        nn.Conv2d(3, 6, 5),\n",
    "        nn.ReLU(inplace=True),\n",
    "        nn.MaxPool2d(2, stride=2),\n",
    "\n",
    "        nn.Conv2d(6, 16, 5),\n",
    "        nn.ReLU(inplace=True),\n",
    "        nn.MaxPool2d(2, stride=2),  \n",
    "            \n",
    "        Flattener(),\n",
    "\n",
    "        nn.Linear(16*5*5, 120), \n",
    "        nn.ReLU(inplace=True),\n",
    "\n",
    "        nn.Linear(120, 84),\n",
    "        nn.ReLU(inplace=True),\n",
    "\n",
    "        nn.Linear(84, 10)\n",
    "    )\n",
    "\n",
    "    lenet_model.type(torch.cuda.FloatTensor)\n",
    "    lenet_model.to(device)\n",
    "\n",
    "    loss = nn.CrossEntropyLoss().type(torch.cuda.FloatTensor)\n",
    "\n",
    "    optimizer = optimizer(lenet_model.parameters(), lr=lr, weight_decay=reg)\n",
    "    scheduler = optim.lr_scheduler.StepLR(optimizer, step_size=anneal_epoch, gamma=anneal_coeff)\n",
    "    \n",
    "    params = Hyperparams(lr, anneal_epoch, reg)\n",
    "\n",
    "    print(f\"\\nCurrent hyperparams: {params}\")\n",
    "\n",
    "    loss_history, train_history, val_history = train_model(lenet_model, train_aug_loader, val_loader, loss, optimizer, epoch_num, scheduler)\n",
    "\n",
    "    result = RunResult(lenet_model, train_history, val_history, val_history[-1])\n",
    "    run_record[params] = result\n",
    "\n",
    "    if best_result.final_val_accuracy is None or best_result.final_val_accuracy < result.final_val_accuracy:\n",
    "        best_result = result\n",
    "        best_hyperparams = params\n",
    "\n",
    "    print(\"\\nCurrent best validation accuracy: %4.2f, best hyperparams: %s\" % (best_result.final_val_accuracy, best_hyperparams))"
   ]
  },
  {
   "cell_type": "code",
   "execution_count": 20,
   "metadata": {
    "colab": {
     "base_uri": "https://localhost:8080/",
     "height": 235
    },
    "id": "Y6xExdw8JB1l",
    "outputId": "45e3e51e-25cd-426d-ce2b-e80e13c9e085"
   },
   "outputs": [
    {
     "name": "stdout",
     "output_type": "stream",
     "text": [
      "Best validation accuracy: 0.95, best hyperparams: Hyperparams(learning_rate=0.1, anneal_epochs=5, reg=0.0001)\n"
     ]
    }
   ],
   "source": [
    "best_val_accuracy = None\n",
    "best_hyperparams = None\n",
    "best_run = None\n",
    "\n",
    "for hyperparams, run_result in run_record.items():\n",
    "    if best_val_accuracy is None or best_val_accuracy < run_result.final_val_accuracy:\n",
    "        best_val_accuracy = run_result.final_val_accuracy\n",
    "        best_hyperparams = hyperparams\n",
    "        best_run = run_result\n",
    "        \n",
    "print(\"Best validation accuracy: %4.2f, best hyperparams: %s\" % (best_val_accuracy, best_hyperparams))\n",
    "        "
   ]
  },
  {
   "cell_type": "markdown",
   "metadata": {
    "id": "LOmsR0uVgtgf"
   },
   "source": [
    "# Свободное упражнение - догоним и перегоним LeNet!\n",
    "\n",
    "Попробуйте найти архитектуру и настройки тренировки, чтобы выступить лучше наших бейзлайнов.\n",
    "\n",
    "Что можно и нужно попробовать:\n",
    "- BatchNormalization (для convolution layers он в PyTorch называется [batchnorm2d](https://pytorch.org/docs/stable/nn.html#batchnorm2d))\n",
    "- Изменить количество слоев и их толщину\n",
    "- Изменять количество эпох тренировки\n",
    "- Попробовать и другие агментации"
   ]
  },
  {
   "cell_type": "code",
   "execution_count": null,
   "metadata": {
    "id": "tSVhD747icoc"
   },
   "outputs": [],
   "source": [
    "best_model = None"
   ]
  },
  {
   "cell_type": "markdown",
   "metadata": {
    "id": "ubeKgBcnhx7N"
   },
   "source": [
    "# Финальный аккорд - проверим лучшую модель на test set\n",
    "\n",
    "В качестве разнообразия - напишите код для прогона модели на test set вы.\n",
    "\n",
    "В результате вы должны натренировать модель, которая покажет более **90%** точности на test set.  \n",
    "Как водится, лучший результат в группе получит дополнительные баллы!"
   ]
  },
  {
   "cell_type": "code",
   "execution_count": null,
   "metadata": {
    "id": "EIqM1kdeh-hd"
   },
   "outputs": [],
   "source": [
    "# TODO Write the code to compute accuracy on test set\n",
    "final_test_accuracy = 0.0\n",
    "print(\"Final test accuracy - \", final_test_accuracy)"
   ]
  },
  {
   "cell_type": "code",
   "execution_count": null,
   "metadata": {
    "id": "BfH6qip6kVX_"
   },
   "outputs": [],
   "source": []
  }
 ],
 "metadata": {
  "accelerator": "GPU",
  "colab": {
   "collapsed_sections": [],
   "name": "PyTorch_CNN.ipynb",
   "provenance": []
  },
  "kernelspec": {
   "display_name": "Python 3",
   "language": "python",
   "name": "python3"
  },
  "language_info": {
   "codemirror_mode": {
    "name": "ipython",
    "version": 3
   },
   "file_extension": ".py",
   "mimetype": "text/x-python",
   "name": "python",
   "nbconvert_exporter": "python",
   "pygments_lexer": "ipython3",
   "version": "3.8.10"
  }
 },
 "nbformat": 4,
 "nbformat_minor": 4
}
