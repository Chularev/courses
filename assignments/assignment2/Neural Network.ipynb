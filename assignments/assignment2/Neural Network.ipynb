{
 "cells": [
  {
   "cell_type": "markdown",
   "metadata": {},
   "source": [
    "# Задание 2.1 - Нейронные сети\n",
    "\n",
    "В этом задании вы реализуете и натренируете настоящую нейроную сеть своими руками!\n",
    "\n",
    "В некотором смысле это будет расширением прошлого задания - нам нужно просто составить несколько линейных классификаторов вместе!\n",
    "\n",
    "<img src=\"https://i.redd.it/n9fgba8b0qr01.png\" alt=\"Stack_more_layers\" width=\"400px\"/>"
   ]
  },
  {
   "cell_type": "code",
   "execution_count": 1,
   "metadata": {},
   "outputs": [],
   "source": [
    "import numpy as np\n",
    "import matplotlib.pyplot as plt\n",
    "\n",
    "%matplotlib inline\n",
    "\n",
    "%load_ext autoreload\n",
    "%autoreload 2"
   ]
  },
  {
   "cell_type": "code",
   "execution_count": 2,
   "metadata": {},
   "outputs": [],
   "source": [
    "from dataset import load_svhn, random_split_train_val\n",
    "from gradient_check import check_layer_gradient, check_layer_param_gradient, check_model_gradient\n",
    "from layers import FullyConnectedLayer, ReLULayer\n",
    "from model import TwoLayerNet\n",
    "from trainer import Trainer, Dataset\n",
    "from optim import SGD, MomentumSGD\n",
    "from metrics import multiclass_accuracy"
   ]
  },
  {
   "cell_type": "markdown",
   "metadata": {},
   "source": [
    "# Загружаем данные\n",
    "\n",
    "И разделяем их на training и validation."
   ]
  },
  {
   "cell_type": "code",
   "execution_count": 3,
   "metadata": {},
   "outputs": [
    {
     "name": "stderr",
     "output_type": "stream",
     "text": [
      "<ipython-input-3-6cc8c6fecdee>:2: DeprecationWarning: `np.float` is a deprecated alias for the builtin `float`. To silence this warning, use `float` by itself. Doing this will not modify any behavior and is safe. If you specifically wanted the numpy scalar type, use `np.float64` here.\n",
      "Deprecated in NumPy 1.20; for more details and guidance: https://numpy.org/devdocs/release/1.20.0-notes.html#deprecations\n",
      "  train_flat = train_X.reshape(train_X.shape[0], -1).astype(np.float) / 255.0\n",
      "<ipython-input-3-6cc8c6fecdee>:3: DeprecationWarning: `np.float` is a deprecated alias for the builtin `float`. To silence this warning, use `float` by itself. Doing this will not modify any behavior and is safe. If you specifically wanted the numpy scalar type, use `np.float64` here.\n",
      "Deprecated in NumPy 1.20; for more details and guidance: https://numpy.org/devdocs/release/1.20.0-notes.html#deprecations\n",
      "  test_flat = test_X.reshape(test_X.shape[0], -1).astype(np.float) / 255.0\n"
     ]
    }
   ],
   "source": [
    "def prepare_for_neural_network(train_X, test_X):\n",
    "    train_flat = train_X.reshape(train_X.shape[0], -1).astype(np.float) / 255.0\n",
    "    test_flat = test_X.reshape(test_X.shape[0], -1).astype(np.float) / 255.0\n",
    "    \n",
    "    # Subtract mean\n",
    "    mean_image = np.mean(train_flat, axis = 0)\n",
    "    train_flat -= mean_image\n",
    "    test_flat -= mean_image\n",
    "    \n",
    "    return train_flat, test_flat\n",
    "    \n",
    "train_X, train_y, test_X, test_y = load_svhn(\"data\", max_train=10000, max_test=1000)    \n",
    "train_X, test_X = prepare_for_neural_network(train_X, test_X)\n",
    "# Split train into train and val\n",
    "train_X, train_y, val_X, val_y = random_split_train_val(train_X, train_y, num_val = 1000)"
   ]
  },
  {
   "cell_type": "markdown",
   "metadata": {},
   "source": [
    "# Как всегда, начинаем с кирпичиков\n",
    "\n",
    "Мы будем реализовывать необходимые нам слои по очереди. Каждый слой должен реализовать:\n",
    "- прямой проход (forward pass), который генерирует выход слоя по входу и запоминает необходимые данные\n",
    "- обратный проход (backward pass), который получает градиент по выходу слоя и вычисляет градиент по входу и по параметрам\n",
    "\n",
    "Начнем с ReLU, у которого параметров нет."
   ]
  },
  {
   "cell_type": "code",
   "execution_count": 4,
   "metadata": {},
   "outputs": [
    {
     "name": "stdout",
     "output_type": "stream",
     "text": [
      "Gradient check passed!\n"
     ]
    }
   ],
   "source": [
    "# TODO: Implement ReLULayer layer in layers.py\n",
    "# Note: you'll need to copy implementation of the gradient_check function from the previous assignment\n",
    "\n",
    "X = np.array([[1,-2,3],\n",
    "              [-1, 2, 0.1]\n",
    "              ])\n",
    "\n",
    "assert check_layer_gradient(ReLULayer(), X)"
   ]
  },
  {
   "cell_type": "markdown",
   "metadata": {},
   "source": [
    "А теперь реализуем полносвязный слой (fully connected layer), у которого будет два массива параметров: W (weights) и B (bias).\n",
    "\n",
    "Все параметры наши слои будут использовать для параметров специальный класс `Param`, в котором будут храниться значения параметров и градиенты этих параметров, вычисляемые во время обратного прохода.\n",
    "\n",
    "Это даст возможность аккумулировать (суммировать) градиенты из разных частей функции потерь, например, из cross-entropy loss и regularization loss."
   ]
  },
  {
   "cell_type": "code",
   "execution_count": 5,
   "metadata": {},
   "outputs": [
    {
     "name": "stdout",
     "output_type": "stream",
     "text": [
      "Gradient check passed!\n",
      "Gradient check passed!\n",
      "Gradient check passed!\n"
     ]
    }
   ],
   "source": [
    "# TODO: Implement FullyConnected layer forward and backward methods\n",
    "assert check_layer_gradient(FullyConnectedLayer(3, 4), X)\n",
    "# TODO: Implement storing gradients for W and B\n",
    "assert check_layer_param_gradient(FullyConnectedLayer(3, 4), X, 'W')\n",
    "assert check_layer_param_gradient(FullyConnectedLayer(3, 4), X, 'B')"
   ]
  },
  {
   "cell_type": "markdown",
   "metadata": {},
   "source": [
    "## Создаем нейронную сеть\n",
    "\n",
    "Теперь мы реализуем простейшую нейронную сеть с двумя полносвязным слоями и нелинейностью ReLU. Реализуйте функцию `compute_loss_and_gradients`, она должна запустить прямой и обратный проход через оба слоя для вычисления градиентов.\n",
    "\n",
    "Не забудьте реализовать очистку градиентов в начале функции."
   ]
  },
  {
   "cell_type": "code",
   "execution_count": 6,
   "metadata": {},
   "outputs": [
    {
     "name": "stdout",
     "output_type": "stream",
     "text": [
      "Checking gradient for W1\n",
      "Gradient check passed!\n",
      "Checking gradient for B1\n",
      "Gradient check passed!\n",
      "Checking gradient for W2\n",
      "Gradient check passed!\n",
      "Checking gradient for B2\n",
      "Gradient check passed!\n"
     ]
    },
    {
     "data": {
      "text/plain": [
       "True"
      ]
     },
     "execution_count": 6,
     "metadata": {},
     "output_type": "execute_result"
    }
   ],
   "source": [
    "# TODO: In model.py, implement compute_loss_and_gradients function\n",
    "model = TwoLayerNet(n_input = train_X.shape[1], n_output = 10, hidden_layer_size = 3, reg = 0)\n",
    "loss = model.compute_loss_and_gradients(train_X[:2], train_y[:2])\n",
    "\n",
    "# TODO Now implement backward pass and aggregate all of the params\n",
    "check_model_gradient(model, train_X[:2], train_y[:2])"
   ]
  },
  {
   "cell_type": "markdown",
   "metadata": {},
   "source": [
    "Теперь добавьте к модели регуляризацию - она должна прибавляться к loss и делать свой вклад в градиенты."
   ]
  },
  {
   "cell_type": "code",
   "execution_count": 7,
   "metadata": {},
   "outputs": [
    {
     "name": "stdout",
     "output_type": "stream",
     "text": [
      "Checking gradient for W1\n",
      "Gradient check passed!\n",
      "Checking gradient for B1\n",
      "Gradient check passed!\n",
      "Checking gradient for W2\n",
      "Gradient check passed!\n",
      "Checking gradient for B2\n",
      "Gradient check passed!\n"
     ]
    },
    {
     "data": {
      "text/plain": [
       "True"
      ]
     },
     "execution_count": 7,
     "metadata": {},
     "output_type": "execute_result"
    }
   ],
   "source": [
    "# TODO Now implement l2 regularization in the forward and backward pass\n",
    "model_with_reg = TwoLayerNet(n_input = train_X.shape[1], n_output = 10, hidden_layer_size = 3, reg = 1e1)\n",
    "loss_with_reg = model_with_reg.compute_loss_and_gradients(train_X[:2], train_y[:2])\n",
    "assert loss_with_reg > loss and not np.isclose(loss_with_reg, loss), \\\n",
    "    \"Loss with regularization (%2.4f) should be higher than without it (%2.4f)!\" % (loss, loss_with_reg)\n",
    "\n",
    "check_model_gradient(model_with_reg, train_X[:2], train_y[:2])"
   ]
  },
  {
   "cell_type": "markdown",
   "metadata": {},
   "source": [
    "Также реализуем функцию предсказания (вычисления значения) модели на новых данных.\n",
    "\n",
    "Какое значение точности мы ожидаем увидеть до начала тренировки?"
   ]
  },
  {
   "cell_type": "code",
   "execution_count": 8,
   "metadata": {},
   "outputs": [
    {
     "data": {
      "text/plain": [
       "0.1"
      ]
     },
     "execution_count": 8,
     "metadata": {},
     "output_type": "execute_result"
    }
   ],
   "source": [
    "# Finally, implement predict function!\n",
    "\n",
    "# TODO: Implement predict function\n",
    "# What would be the value we expect?\n",
    "multiclass_accuracy(model_with_reg.predict(train_X[:30]), train_y[:30]) "
   ]
  },
  {
   "cell_type": "markdown",
   "metadata": {},
   "source": [
    "# Допишем код для процесса тренировки\n",
    "\n",
    "Если все реализовано корректно, значение функции ошибки должно уменьшаться с каждой эпохой, пусть и медленно. Не беспокойтесь пока про validation accuracy."
   ]
  },
  {
   "cell_type": "code",
   "execution_count": 9,
   "metadata": {},
   "outputs": [
    {
     "name": "stdout",
     "output_type": "stream",
     "text": [
      "Loss: 2.216398, Train accuracy: 0.196667, val accuracy: 0.206000\n",
      "Loss: 2.153856, Train accuracy: 0.196667, val accuracy: 0.206000\n",
      "Loss: 2.099106, Train accuracy: 0.196667, val accuracy: 0.206000\n",
      "Loss: 2.285874, Train accuracy: 0.196667, val accuracy: 0.206000\n",
      "Loss: 2.168890, Train accuracy: 0.196667, val accuracy: 0.206000\n",
      "Loss: 2.063678, Train accuracy: 0.196667, val accuracy: 0.206000\n",
      "Loss: 2.365672, Train accuracy: 0.196667, val accuracy: 0.206000\n",
      "Loss: 2.103934, Train accuracy: 0.196667, val accuracy: 0.206000\n",
      "Loss: 2.222549, Train accuracy: 0.210333, val accuracy: 0.218000\n",
      "Loss: 2.059842, Train accuracy: 0.233111, val accuracy: 0.237000\n",
      "Loss: 2.115231, Train accuracy: 0.260667, val accuracy: 0.257000\n",
      "Loss: 2.090787, Train accuracy: 0.272111, val accuracy: 0.275000\n",
      "Loss: 2.098957, Train accuracy: 0.288222, val accuracy: 0.292000\n",
      "Loss: 1.974340, Train accuracy: 0.306889, val accuracy: 0.310000\n",
      "Loss: 2.011588, Train accuracy: 0.333000, val accuracy: 0.336000\n",
      "Loss: 1.819071, Train accuracy: 0.369444, val accuracy: 0.366000\n",
      "Loss: 1.805035, Train accuracy: 0.398222, val accuracy: 0.391000\n",
      "Loss: 2.001364, Train accuracy: 0.415444, val accuracy: 0.405000\n",
      "Loss: 1.930639, Train accuracy: 0.435778, val accuracy: 0.432000\n",
      "Loss: 1.738233, Train accuracy: 0.467111, val accuracy: 0.463000\n"
     ]
    }
   ],
   "source": [
    "model = TwoLayerNet(n_input = train_X.shape[1], n_output = 10, hidden_layer_size = 100, reg = 1e-5)\n",
    "dataset = Dataset(train_X, train_y, val_X, val_y)\n",
    "trainer = Trainer(model, dataset, SGD())\n",
    "\n",
    "# TODO Implement missing pieces in Trainer.fit function\n",
    "# You should expect loss to go down every epoch, even if it's slow\n",
    "loss_history, train_history, val_history = trainer.fit()"
   ]
  },
  {
   "cell_type": "code",
   "execution_count": 10,
   "metadata": {},
   "outputs": [
    {
     "data": {
      "text/plain": [
       "[<matplotlib.lines.Line2D at 0x7f9f4a78ceb0>]"
      ]
     },
     "execution_count": 10,
     "metadata": {},
     "output_type": "execute_result"
    },
    {
     "data": {
      "image/png": "[encoded data removed]",
      "text/plain": [
       "<Figure size 432x288 with 1 Axes>"
      ]
     },
     "metadata": {
      "needs_background": "light"
     },
     "output_type": "display_data"
    }
   ],
   "source": [
    "plt.plot(train_history)\n",
    "plt.plot(val_history)"
   ]
  },
  {
   "cell_type": "markdown",
   "metadata": {},
   "source": [
    "# Улучшаем процесс тренировки\n",
    "\n",
    "Мы реализуем несколько ключевых оптимизаций, необходимых для тренировки современных нейросетей."
   ]
  },
  {
   "cell_type": "markdown",
   "metadata": {},
   "source": [
    "## Уменьшение скорости обучения (learning rate decay)\n",
    "\n",
    "Одна из необходимых оптимизаций во время тренировки нейронных сетей - постепенное уменьшение скорости обучения по мере тренировки.\n",
    "\n",
    "Один из стандартных методов - уменьшение скорости обучения (learning rate) каждые N эпох на коэффициент d (часто называемый decay). Значения N и d, как всегда, являются гиперпараметрами и должны подбираться на основе эффективности на проверочных данных (validation data). \n",
    "\n",
    "В нашем случае N будет равным 1."
   ]
  },
  {
   "cell_type": "code",
   "execution_count": 18,
   "metadata": {},
   "outputs": [
    {
     "name": "stdout",
     "output_type": "stream",
     "text": [
      "Loss: 2.134298, Train accuracy: 0.218889, val accuracy: 0.228000\n",
      "Loss: 1.760945, Train accuracy: 0.405778, val accuracy: 0.380000\n",
      "Loss: 1.238614, Train accuracy: 0.556000, val accuracy: 0.533000\n",
      "Loss: 1.761091, Train accuracy: 0.581333, val accuracy: 0.580000\n",
      "Loss: 0.849264, Train accuracy: 0.669556, val accuracy: 0.664000\n",
      "Loss: 0.926747, Train accuracy: 0.678333, val accuracy: 0.646000\n",
      "Loss: 1.337701, Train accuracy: 0.711111, val accuracy: 0.685000\n",
      "Loss: 0.877371, Train accuracy: 0.746111, val accuracy: 0.710000\n",
      "Loss: 0.627769, Train accuracy: 0.753000, val accuracy: 0.694000\n",
      "Loss: 0.766936, Train accuracy: 0.773889, val accuracy: 0.699000\n"
     ]
    }
   ],
   "source": [
    "# TODO Implement learning rate decay inside Trainer.fit method\n",
    "# Decay should happen once per epoch\n",
    "\n",
    "model = TwoLayerNet(n_input = train_X.shape[1], n_output = 10, hidden_layer_size = 100, reg = 1e-5)\n",
    "dataset = Dataset(train_X, train_y, val_X, val_y)\n",
    "trainer = Trainer(model, dataset, SGD(), num_epochs=10, learning_rate=1e-1, learning_rate_decay=0.99)\n",
    "\n",
    "initial_learning_rate = trainer.learning_rate\n",
    "loss_history, train_history, val_history = trainer.fit()\n",
    "\n",
    "assert trainer.learning_rate < initial_learning_rate, \"Learning rate should've been reduced\"\n",
    "assert trainer.learning_rate > 0.5*initial_learning_rate, \"Learning rate shouldn'tve been reduced that much!\""
   ]
  },
  {
   "cell_type": "markdown",
   "metadata": {},
   "source": [
    "# Накопление импульса (Momentum SGD)\n",
    "\n",
    "Другой большой класс оптимизаций - использование более эффективных методов градиентного спуска. Мы реализуем один из них - накопление импульса (Momentum SGD).\n",
    "\n",
    "Этот метод хранит скорость движения, использует градиент для ее изменения на каждом шаге, и изменяет веса пропорционально значению скорости.\n",
    "(Физическая аналогия: Вместо скорости градиенты теперь будут задавать ускорение, но будет присутствовать сила трения.)\n",
    "\n",
    "```\n",
    "velocity = momentum * velocity - learning_rate * gradient \n",
    "w = w + velocity\n",
    "```\n",
    "\n",
    "`momentum` здесь коэффициент затухания, который тоже является гиперпараметром (к счастью, для него часто есть хорошее значение по умолчанию, типичный диапазон -- 0.8-0.99).\n",
    "\n",
    "Несколько полезных ссылок, где метод разбирается более подробно:  \n",
    "http://cs231n.github.io/neural-networks-3/#sgd  \n",
    "https://distill.pub/2017/momentum/"
   ]
  },
  {
   "cell_type": "code",
   "execution_count": 23,
   "metadata": {},
   "outputs": [
    {
     "name": "stdout",
     "output_type": "stream",
     "text": [
      "Loss: 2.154439, Train accuracy: 0.196889, val accuracy: 0.207000\n",
      "Loss: 2.018256, Train accuracy: 0.350444, val accuracy: 0.345000\n",
      "Loss: 1.777366, Train accuracy: 0.515889, val accuracy: 0.509000\n",
      "Loss: 1.429423, Train accuracy: 0.604333, val accuracy: 0.614000\n",
      "Loss: 1.382985, Train accuracy: 0.666222, val accuracy: 0.657000\n",
      "Loss: 1.848315, Train accuracy: 0.695000, val accuracy: 0.668000\n",
      "Loss: 0.988692, Train accuracy: 0.670444, val accuracy: 0.644000\n",
      "Loss: 1.892633, Train accuracy: 0.679667, val accuracy: 0.645000\n",
      "Loss: 1.502153, Train accuracy: 0.731000, val accuracy: 0.691000\n",
      "Loss: 1.146144, Train accuracy: 0.729556, val accuracy: 0.671000\n",
      "Loss: 1.027118, Train accuracy: 0.749444, val accuracy: 0.697000\n",
      "Loss: 1.253604, Train accuracy: 0.758556, val accuracy: 0.683000\n",
      "Loss: 0.683497, Train accuracy: 0.770111, val accuracy: 0.729000\n",
      "Loss: 0.950653, Train accuracy: 0.783667, val accuracy: 0.706000\n",
      "Loss: 1.289287, Train accuracy: 0.792667, val accuracy: 0.720000\n",
      "Loss: 0.818379, Train accuracy: 0.786000, val accuracy: 0.726000\n",
      "Loss: 0.887855, Train accuracy: 0.812556, val accuracy: 0.741000\n",
      "Loss: 0.950455, Train accuracy: 0.821778, val accuracy: 0.728000\n",
      "Loss: 0.884506, Train accuracy: 0.798111, val accuracy: 0.726000\n",
      "Loss: 1.040186, Train accuracy: 0.814556, val accuracy: 0.749000\n"
     ]
    }
   ],
   "source": [
    "# TODO: Implement MomentumSGD.update function in optim.py\n",
    "\n",
    "model = TwoLayerNet(n_input = train_X.shape[1], n_output = 10, hidden_layer_size = 100, reg = 1e-3)\n",
    "dataset = Dataset(train_X, train_y, val_X, val_y)\n",
    "trainer = Trainer(model, dataset, MomentumSGD(), learning_rate_decay=0.99)\n",
    "\n",
    "# You should see even better results than before!\n",
    "loss_history, train_history, val_history = trainer.fit()"
   ]
  },
  {
   "cell_type": "markdown",
   "metadata": {},
   "source": [
    "# Ну что, давайте уже тренировать сеть!"
   ]
  },
  {
   "cell_type": "markdown",
   "metadata": {},
   "source": [
    "## Последний тест - переобучимся (overfit) на маленьком наборе данных\n",
    "\n",
    "Хороший способ проверить, все ли реализовано корректно - переобучить сеть на маленьком наборе данных.  \n",
    "Наша модель обладает достаточной мощностью, чтобы приблизить маленький набор данных идеально, поэтому мы ожидаем, что на нем мы быстро дойдем до 100% точности на тренировочном наборе. \n",
    "\n",
    "Если этого не происходит, то где-то была допущена ошибка!"
   ]
  },
  {
   "cell_type": "code",
   "execution_count": 24,
   "metadata": {},
   "outputs": [
    {
     "name": "stdout",
     "output_type": "stream",
     "text": [
      "Loss: 2.331566, Train accuracy: 0.200000, val accuracy: 0.133333\n",
      "Loss: 2.327830, Train accuracy: 0.266667, val accuracy: 0.066667\n",
      "Loss: 2.298602, Train accuracy: 0.200000, val accuracy: 0.133333\n",
      "Loss: 2.260111, Train accuracy: 0.266667, val accuracy: 0.000000\n",
      "Loss: 2.294415, Train accuracy: 0.266667, val accuracy: 0.000000\n",
      "Loss: 2.251854, Train accuracy: 0.200000, val accuracy: 0.066667\n",
      "Loss: 2.298362, Train accuracy: 0.266667, val accuracy: 0.000000\n",
      "Loss: 2.202128, Train accuracy: 0.266667, val accuracy: 0.000000\n",
      "Loss: 2.310806, Train accuracy: 0.400000, val accuracy: 0.000000\n",
      "Loss: 2.116070, Train accuracy: 0.400000, val accuracy: 0.000000\n",
      "Loss: 2.250636, Train accuracy: 0.400000, val accuracy: 0.000000\n",
      "Loss: 2.312734, Train accuracy: 0.400000, val accuracy: 0.000000\n",
      "Loss: 2.130894, Train accuracy: 0.400000, val accuracy: 0.000000\n",
      "Loss: 2.183713, Train accuracy: 0.400000, val accuracy: 0.000000\n",
      "Loss: 2.043726, Train accuracy: 0.333333, val accuracy: 0.000000\n",
      "Loss: 1.717408, Train accuracy: 0.333333, val accuracy: 0.000000\n",
      "Loss: 2.004275, Train accuracy: 0.333333, val accuracy: 0.000000\n",
      "Loss: 1.643377, Train accuracy: 0.400000, val accuracy: 0.000000\n",
      "Loss: 1.880290, Train accuracy: 0.400000, val accuracy: 0.000000\n",
      "Loss: 2.137874, Train accuracy: 0.400000, val accuracy: 0.000000\n",
      "Loss: 1.846464, Train accuracy: 0.400000, val accuracy: 0.000000\n",
      "Loss: 1.307836, Train accuracy: 0.400000, val accuracy: 0.000000\n",
      "Loss: 1.973467, Train accuracy: 0.400000, val accuracy: 0.000000\n",
      "Loss: 1.789630, Train accuracy: 0.400000, val accuracy: 0.066667\n",
      "Loss: 2.247063, Train accuracy: 0.466667, val accuracy: 0.000000\n",
      "Loss: 1.973122, Train accuracy: 0.466667, val accuracy: 0.066667\n",
      "Loss: 2.068409, Train accuracy: 0.466667, val accuracy: 0.000000\n",
      "Loss: 1.812731, Train accuracy: 0.466667, val accuracy: 0.066667\n",
      "Loss: 1.997977, Train accuracy: 0.466667, val accuracy: 0.066667\n",
      "Loss: 2.013583, Train accuracy: 0.466667, val accuracy: 0.066667\n",
      "Loss: 1.626466, Train accuracy: 0.466667, val accuracy: 0.066667\n",
      "Loss: 1.524134, Train accuracy: 0.466667, val accuracy: 0.066667\n",
      "Loss: 1.515214, Train accuracy: 0.466667, val accuracy: 0.000000\n",
      "Loss: 2.448521, Train accuracy: 0.533333, val accuracy: 0.066667\n",
      "Loss: 1.938838, Train accuracy: 0.600000, val accuracy: 0.066667\n",
      "Loss: 1.540637, Train accuracy: 0.600000, val accuracy: 0.066667\n",
      "Loss: 1.628341, Train accuracy: 0.600000, val accuracy: 0.066667\n",
      "Loss: 1.908089, Train accuracy: 0.666667, val accuracy: 0.066667\n",
      "Loss: 1.918830, Train accuracy: 0.666667, val accuracy: 0.066667\n",
      "Loss: 1.157492, Train accuracy: 0.666667, val accuracy: 0.000000\n",
      "Loss: 1.591847, Train accuracy: 0.666667, val accuracy: 0.066667\n",
      "Loss: 1.722412, Train accuracy: 0.666667, val accuracy: 0.066667\n",
      "Loss: 1.417973, Train accuracy: 0.666667, val accuracy: 0.066667\n",
      "Loss: 1.951997, Train accuracy: 0.666667, val accuracy: 0.066667\n",
      "Loss: 1.632413, Train accuracy: 0.666667, val accuracy: 0.066667\n",
      "Loss: 1.328661, Train accuracy: 0.666667, val accuracy: 0.066667\n",
      "Loss: 1.350033, Train accuracy: 0.733333, val accuracy: 0.066667\n",
      "Loss: 1.658952, Train accuracy: 0.666667, val accuracy: 0.000000\n",
      "Loss: 1.138258, Train accuracy: 0.733333, val accuracy: 0.066667\n",
      "Loss: 1.960261, Train accuracy: 0.733333, val accuracy: 0.066667\n",
      "Loss: 1.830577, Train accuracy: 0.733333, val accuracy: 0.066667\n",
      "Loss: 1.493052, Train accuracy: 0.733333, val accuracy: 0.133333\n",
      "Loss: 1.615255, Train accuracy: 0.733333, val accuracy: 0.066667\n",
      "Loss: 1.248842, Train accuracy: 0.733333, val accuracy: 0.000000\n",
      "Loss: 1.485511, Train accuracy: 0.733333, val accuracy: 0.066667\n",
      "Loss: 1.308680, Train accuracy: 0.733333, val accuracy: 0.000000\n",
      "Loss: 1.545167, Train accuracy: 0.733333, val accuracy: 0.066667\n",
      "Loss: 1.623569, Train accuracy: 0.733333, val accuracy: 0.066667\n",
      "Loss: 1.081988, Train accuracy: 0.733333, val accuracy: 0.066667\n",
      "Loss: 1.094690, Train accuracy: 0.733333, val accuracy: 0.066667\n",
      "Loss: 1.281432, Train accuracy: 0.733333, val accuracy: 0.066667\n",
      "Loss: 1.499026, Train accuracy: 0.733333, val accuracy: 0.066667\n",
      "Loss: 2.004929, Train accuracy: 0.733333, val accuracy: 0.066667\n",
      "Loss: 1.857869, Train accuracy: 0.733333, val accuracy: 0.066667\n",
      "Loss: 0.971147, Train accuracy: 0.733333, val accuracy: 0.066667\n",
      "Loss: 1.777913, Train accuracy: 0.733333, val accuracy: 0.066667\n",
      "Loss: 1.175896, Train accuracy: 0.733333, val accuracy: 0.066667\n",
      "Loss: 0.864064, Train accuracy: 0.733333, val accuracy: 0.066667\n",
      "Loss: 1.034564, Train accuracy: 0.733333, val accuracy: 0.066667\n",
      "Loss: 1.206900, Train accuracy: 0.733333, val accuracy: 0.066667\n",
      "Loss: 1.691938, Train accuracy: 0.733333, val accuracy: 0.066667\n",
      "Loss: 1.348793, Train accuracy: 0.733333, val accuracy: 0.066667\n",
      "Loss: 1.435030, Train accuracy: 0.733333, val accuracy: 0.066667\n",
      "Loss: 1.619697, Train accuracy: 0.733333, val accuracy: 0.066667\n",
      "Loss: 1.313562, Train accuracy: 0.733333, val accuracy: 0.066667\n",
      "Loss: 1.600011, Train accuracy: 0.800000, val accuracy: 0.066667\n",
      "Loss: 1.534786, Train accuracy: 0.800000, val accuracy: 0.066667\n",
      "Loss: 1.279276, Train accuracy: 0.800000, val accuracy: 0.066667\n",
      "Loss: 1.038921, Train accuracy: 0.800000, val accuracy: 0.066667\n",
      "Loss: 1.307814, Train accuracy: 0.800000, val accuracy: 0.066667\n",
      "Loss: 1.279392, Train accuracy: 0.800000, val accuracy: 0.066667\n",
      "Loss: 1.012608, Train accuracy: 0.800000, val accuracy: 0.066667\n",
      "Loss: 1.407412, Train accuracy: 0.800000, val accuracy: 0.066667\n",
      "Loss: 0.894351, Train accuracy: 0.866667, val accuracy: 0.066667\n",
      "Loss: 1.355228, Train accuracy: 0.866667, val accuracy: 0.066667\n",
      "Loss: 2.020480, Train accuracy: 0.866667, val accuracy: 0.066667\n",
      "Loss: 1.319574, Train accuracy: 0.866667, val accuracy: 0.066667\n",
      "Loss: 1.404098, Train accuracy: 0.933333, val accuracy: 0.066667\n",
      "Loss: 1.359016, Train accuracy: 0.866667, val accuracy: 0.066667\n",
      "Loss: 1.275392, Train accuracy: 0.866667, val accuracy: 0.066667\n",
      "Loss: 1.103872, Train accuracy: 0.933333, val accuracy: 0.066667\n",
      "Loss: 1.670950, Train accuracy: 0.866667, val accuracy: 0.066667\n",
      "Loss: 1.015849, Train accuracy: 0.933333, val accuracy: 0.066667\n",
      "Loss: 0.907790, Train accuracy: 0.933333, val accuracy: 0.066667\n",
      "Loss: 1.084163, Train accuracy: 0.933333, val accuracy: 0.066667\n",
      "Loss: 1.135526, Train accuracy: 0.933333, val accuracy: 0.066667\n",
      "Loss: 1.188529, Train accuracy: 0.933333, val accuracy: 0.066667\n",
      "Loss: 1.422835, Train accuracy: 0.933333, val accuracy: 0.000000\n",
      "Loss: 1.566177, Train accuracy: 0.933333, val accuracy: 0.000000\n",
      "Loss: 0.993749, Train accuracy: 0.933333, val accuracy: 0.000000\n",
      "Loss: 1.001250, Train accuracy: 0.933333, val accuracy: 0.000000\n",
      "Loss: 1.225372, Train accuracy: 0.933333, val accuracy: 0.000000\n",
      "Loss: 1.487581, Train accuracy: 0.933333, val accuracy: 0.000000\n",
      "Loss: 1.358065, Train accuracy: 0.933333, val accuracy: 0.000000\n",
      "Loss: 1.094462, Train accuracy: 0.933333, val accuracy: 0.000000\n",
      "Loss: 1.317933, Train accuracy: 0.933333, val accuracy: 0.000000\n",
      "Loss: 1.394488, Train accuracy: 0.933333, val accuracy: 0.000000\n",
      "Loss: 0.947160, Train accuracy: 0.933333, val accuracy: 0.000000\n",
      "Loss: 1.495729, Train accuracy: 0.933333, val accuracy: 0.000000\n",
      "Loss: 0.931568, Train accuracy: 0.933333, val accuracy: 0.000000\n",
      "Loss: 1.435120, Train accuracy: 0.933333, val accuracy: 0.000000\n",
      "Loss: 1.000825, Train accuracy: 0.933333, val accuracy: 0.000000\n",
      "Loss: 1.191991, Train accuracy: 1.000000, val accuracy: 0.000000\n",
      "Loss: 1.684819, Train accuracy: 1.000000, val accuracy: 0.000000\n",
      "Loss: 1.371131, Train accuracy: 0.933333, val accuracy: 0.000000\n",
      "Loss: 1.460345, Train accuracy: 0.933333, val accuracy: 0.000000\n",
      "Loss: 1.503883, Train accuracy: 1.000000, val accuracy: 0.000000\n",
      "Loss: 1.336961, Train accuracy: 0.933333, val accuracy: 0.000000\n",
      "Loss: 1.239998, Train accuracy: 0.933333, val accuracy: 0.000000\n",
      "Loss: 1.269916, Train accuracy: 0.933333, val accuracy: 0.000000\n",
      "Loss: 1.478522, Train accuracy: 1.000000, val accuracy: 0.000000\n",
      "Loss: 1.118792, Train accuracy: 1.000000, val accuracy: 0.000000\n",
      "Loss: 1.186345, Train accuracy: 1.000000, val accuracy: 0.000000\n",
      "Loss: 1.285760, Train accuracy: 1.000000, val accuracy: 0.000000\n",
      "Loss: 1.506989, Train accuracy: 1.000000, val accuracy: 0.000000\n",
      "Loss: 1.383719, Train accuracy: 1.000000, val accuracy: 0.000000\n",
      "Loss: 1.672111, Train accuracy: 1.000000, val accuracy: 0.000000\n",
      "Loss: 1.345955, Train accuracy: 1.000000, val accuracy: 0.000000\n",
      "Loss: 1.373666, Train accuracy: 1.000000, val accuracy: 0.000000\n",
      "Loss: 1.012802, Train accuracy: 1.000000, val accuracy: 0.000000\n",
      "Loss: 1.249122, Train accuracy: 1.000000, val accuracy: 0.000000\n",
      "Loss: 1.293137, Train accuracy: 1.000000, val accuracy: 0.000000\n",
      "Loss: 1.286737, Train accuracy: 1.000000, val accuracy: 0.000000\n",
      "Loss: 1.418880, Train accuracy: 1.000000, val accuracy: 0.000000\n",
      "Loss: 1.397799, Train accuracy: 1.000000, val accuracy: 0.000000\n",
      "Loss: 1.285408, Train accuracy: 1.000000, val accuracy: 0.000000\n",
      "Loss: 1.402033, Train accuracy: 1.000000, val accuracy: 0.000000\n",
      "Loss: 1.422368, Train accuracy: 1.000000, val accuracy: 0.000000\n",
      "Loss: 1.339966, Train accuracy: 1.000000, val accuracy: 0.000000\n",
      "Loss: 1.233328, Train accuracy: 1.000000, val accuracy: 0.000000\n",
      "Loss: 1.230194, Train accuracy: 1.000000, val accuracy: 0.000000\n",
      "Loss: 1.260232, Train accuracy: 1.000000, val accuracy: 0.000000\n",
      "Loss: 1.456348, Train accuracy: 1.000000, val accuracy: 0.000000\n",
      "Loss: 1.157295, Train accuracy: 1.000000, val accuracy: 0.000000\n",
      "Loss: 1.261034, Train accuracy: 1.000000, val accuracy: 0.000000\n",
      "Loss: 1.463535, Train accuracy: 1.000000, val accuracy: 0.000000\n",
      "Loss: 1.305819, Train accuracy: 1.000000, val accuracy: 0.000000\n",
      "Loss: 1.343644, Train accuracy: 1.000000, val accuracy: 0.000000\n",
      "Loss: 1.496993, Train accuracy: 1.000000, val accuracy: 0.000000\n",
      "Loss: 1.444643, Train accuracy: 1.000000, val accuracy: 0.000000\n"
     ]
    }
   ],
   "source": [
    "data_size = 15\n",
    "model = TwoLayerNet(n_input = train_X.shape[1], n_output = 10, hidden_layer_size = 100, reg = 1e-1)\n",
    "dataset = Dataset(train_X[:data_size], train_y[:data_size], val_X[:data_size], val_y[:data_size])\n",
    "trainer = Trainer(model, dataset, SGD(), learning_rate=1e-1, num_epochs=150, batch_size=5)\n",
    "\n",
    "# You should expect this to reach 1.0 training accuracy \n",
    "loss_history, train_history, val_history = trainer.fit()"
   ]
  },
  {
   "cell_type": "markdown",
   "metadata": {},
   "source": [
    "Теперь найдем гипепараметры, для которых этот процесс сходится быстрее.\n",
    "Если все реализовано корректно, то существуют параметры, при которых процесс сходится в **20** эпох или еще быстрее.\n",
    "Найдите их!"
   ]
  },
  {
   "cell_type": "code",
   "execution_count": 84,
   "metadata": {},
   "outputs": [
    {
     "name": "stdout",
     "output_type": "stream",
     "text": [
      "Loss: 2.313566, Train accuracy: 0.200000, val accuracy: 0.066667\n",
      "Loss: 2.281436, Train accuracy: 0.200000, val accuracy: 0.066667\n",
      "Loss: 2.298149, Train accuracy: 0.333333, val accuracy: 0.066667\n",
      "Loss: 2.236159, Train accuracy: 0.266667, val accuracy: 0.000000\n",
      "Loss: 1.956893, Train accuracy: 0.400000, val accuracy: 0.000000\n",
      "Loss: 2.132245, Train accuracy: 0.266667, val accuracy: 0.066667\n",
      "Loss: 2.509655, Train accuracy: 0.333333, val accuracy: 0.066667\n",
      "Loss: 1.759089, Train accuracy: 0.400000, val accuracy: 0.133333\n",
      "Loss: 1.301171, Train accuracy: 0.466667, val accuracy: 0.000000\n",
      "Loss: 1.865278, Train accuracy: 0.533333, val accuracy: 0.000000\n",
      "Loss: 1.458242, Train accuracy: 0.533333, val accuracy: 0.066667\n",
      "Loss: 1.318952, Train accuracy: 0.600000, val accuracy: 0.000000\n",
      "Loss: 1.261494, Train accuracy: 0.666667, val accuracy: 0.000000\n",
      "Loss: 1.316987, Train accuracy: 0.733333, val accuracy: 0.000000\n",
      "Loss: 0.663594, Train accuracy: 0.733333, val accuracy: 0.066667\n",
      "Loss: 0.879523, Train accuracy: 0.933333, val accuracy: 0.000000\n",
      "Loss: 0.510179, Train accuracy: 0.866667, val accuracy: 0.000000\n",
      "Loss: 0.522434, Train accuracy: 0.866667, val accuracy: 0.000000\n",
      "Loss: 0.253906, Train accuracy: 1.000000, val accuracy: 0.066667\n",
      "Loss: 0.348634, Train accuracy: 1.000000, val accuracy: 0.000000\n"
     ]
    }
   ],
   "source": [
    "# Now, tweak some hyper parameters and make it train to 1.0 accuracy in 20 epochs or less\n",
    "\n",
    "model = TwoLayerNet(n_input = train_X.shape[1], n_output = 10, hidden_layer_size = 100, reg = 1e-10)\n",
    "dataset = Dataset(train_X[:data_size], train_y[:data_size], val_X[:data_size], val_y[:data_size])\n",
    "# TODO: Change any hyperparamers or optimizators to reach training accuracy in 20 epochs\n",
    "trainer = Trainer(model, dataset, SGD(), learning_rate=4e-1, num_epochs=20, batch_size=9)\n",
    "\n",
    "loss_history, train_history, val_history = trainer.fit()"
   ]
  },
  {
   "cell_type": "markdown",
   "metadata": {},
   "source": [
    "# Итак, основное мероприятие!\n",
    "\n",
    "Натренируйте лучшую нейросеть! Можно добавлять и изменять параметры, менять количество нейронов в слоях сети и как угодно экспериментировать. \n",
    "\n",
    "Добейтесь точности лучше **60%** на validation set."
   ]
  },
  {
   "cell_type": "code",
   "execution_count": 86,
   "metadata": {
    "scrolled": true
   },
   "outputs": [
    {
     "name": "stdout",
     "output_type": "stream",
     "text": [
      "Loss: 2.215406, Train accuracy: 0.200556, val accuracy: 0.209000\n",
      "Loss: 1.851518, Train accuracy: 0.398889, val accuracy: 0.400000\n",
      "Loss: 1.663072, Train accuracy: 0.517000, val accuracy: 0.526000\n",
      "Loss: 1.102132, Train accuracy: 0.632111, val accuracy: 0.624000\n",
      "Loss: 1.066279, Train accuracy: 0.668000, val accuracy: 0.658000\n",
      "Loss: 1.374212, Train accuracy: 0.691889, val accuracy: 0.683000\n",
      "Loss: 1.103573, Train accuracy: 0.719222, val accuracy: 0.687000\n",
      "Loss: 1.119203, Train accuracy: 0.729333, val accuracy: 0.695000\n",
      "Loss: 0.991287, Train accuracy: 0.726444, val accuracy: 0.683000\n",
      "Loss: 1.049026, Train accuracy: 0.743778, val accuracy: 0.691000\n",
      "Loss: 1.109698, Train accuracy: 0.777444, val accuracy: 0.735000\n",
      "Loss: 0.970761, Train accuracy: 0.760556, val accuracy: 0.711000\n",
      "Loss: 1.086489, Train accuracy: 0.791000, val accuracy: 0.721000\n",
      "Loss: 1.058942, Train accuracy: 0.781111, val accuracy: 0.699000\n",
      "Loss: 0.850360, Train accuracy: 0.795556, val accuracy: 0.720000\n",
      "Loss: 0.793983, Train accuracy: 0.793667, val accuracy: 0.731000\n",
      "Loss: 0.852833, Train accuracy: 0.819111, val accuracy: 0.734000\n",
      "Loss: 0.834023, Train accuracy: 0.797889, val accuracy: 0.718000\n",
      "Loss: 0.741004, Train accuracy: 0.813333, val accuracy: 0.730000\n",
      "Loss: 0.759831, Train accuracy: 0.817889, val accuracy: 0.736000\n",
      "best validation accuracy achieved: 2.229451\n"
     ]
    }
   ],
   "source": [
    "# Let's train the best one-hidden-layer network we can\n",
    "\n",
    "learning_rates = 1e-4\n",
    "reg_strength = 1e-3\n",
    "learning_rate_decay = 0.999\n",
    "hidden_layer_size = 128\n",
    "num_epochs = 200\n",
    "batch_size = 64\n",
    "\n",
    "best_classifier = None\n",
    "best_val_accuracy = None\n",
    "\n",
    "loss_history = []\n",
    "train_history = []\n",
    "val_history = []\n",
    "\n",
    "# TODO find the best hyperparameters to train the network\n",
    "# Don't hesitate to add new values to the arrays above, perform experiments, use any tricks you want\n",
    "# You should expect to get to at least 40% of valudation accuracy\n",
    "# Save loss/train/history of the best classifier to the variables above\n",
    "\n",
    "model = TwoLayerNet(n_input = train_X.shape[1], n_output = 10, hidden_layer_size = 100, reg = 1e-3)\n",
    "dataset = Dataset(train_X, train_y, val_X, val_y)\n",
    "trainer = Trainer(model, dataset, MomentumSGD(), learning_rate_decay=0.99)\n",
    "\n",
    "loss_history, train_history, val_history = trainer.fit()\n",
    "best_val_accuracy = max(val_history)\n",
    "best_classifier = model\n",
    "\n",
    "print('best validation accuracy achieved: %f' % best_val_accuracy)"
   ]
  },
  {
   "cell_type": "code",
   "execution_count": 87,
   "metadata": {},
   "outputs": [
    {
     "data": {
      "text/plain": [
       "[<matplotlib.lines.Line2D at 0x7f9f39f6fa30>]"
      ]
     },
     "execution_count": 87,
     "metadata": {},
     "output_type": "execute_result"
    },
    {
     "data": {
      "image/png": "[encoded data removed]",
      "text/plain": [
       "<Figure size 1080x504 with 2 Axes>"
      ]
     },
     "metadata": {
      "needs_background": "light"
     },
     "output_type": "display_data"
    }
   ],
   "source": [
    "plt.figure(figsize=(15, 7))\n",
    "plt.subplot(211)\n",
    "plt.title(\"Loss\")\n",
    "plt.plot(loss_history)\n",
    "plt.subplot(212)\n",
    "plt.title(\"Train/validation accuracy\")\n",
    "plt.plot(train_history)\n",
    "plt.plot(val_history)"
   ]
  },
  {
   "cell_type": "markdown",
   "metadata": {},
   "source": [
    "# Как обычно, посмотрим, как наша лучшая модель работает на тестовых данных"
   ]
  },
  {
   "cell_type": "code",
   "execution_count": 88,
   "metadata": {},
   "outputs": [
    {
     "name": "stdout",
     "output_type": "stream",
     "text": [
      "Neural net test set accuracy: 0.707000\n"
     ]
    }
   ],
   "source": [
    "test_pred = best_classifier.predict(test_X)\n",
    "test_accuracy = multiclass_accuracy(test_pred, test_y)\n",
    "print('Neural net test set accuracy: %f' % (test_accuracy, ))"
   ]
  },
  {
   "cell_type": "code",
   "execution_count": null,
   "metadata": {},
   "outputs": [],
   "source": []
  }
 ],
 "metadata": {
  "kernelspec": {
   "display_name": "Python 3",
   "language": "python",
   "name": "python3"
  },
  "language_info": {
   "codemirror_mode": {
    "name": "ipython",
    "version": 3
   },
   "file_extension": ".py",
   "mimetype": "text/x-python",
   "name": "python",
   "nbconvert_exporter": "python",
   "pygments_lexer": "ipython3",
   "version": "3.8.5"
  }
 },
 "nbformat": 4,
 "nbformat_minor": 4
}
