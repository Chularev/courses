{
 "cells": [
  {
   "cell_type": "markdown",
   "metadata": {},
   "source": [
    "# Задание 2.1 - Нейронные сети\n",
    "\n",
    "В этом задании вы реализуете и натренируете настоящую нейроную сеть своими руками!\n",
    "\n",
    "В некотором смысле это будет расширением прошлого задания - нам нужно просто составить несколько линейных классификаторов вместе!\n",
    "\n",
    "<img src=\"https://i.redd.it/n9fgba8b0qr01.png\" alt=\"Stack_more_layers\" width=\"400px\"/>"
   ]
  },
  {
   "cell_type": "code",
   "execution_count": 1,
   "metadata": {},
   "outputs": [],
   "source": [
    "import numpy as np\n",
    "import matplotlib.pyplot as plt\n",
    "\n",
    "%matplotlib inline\n",
    "\n",
    "%load_ext autoreload\n",
    "%autoreload 2"
   ]
  },
  {
   "cell_type": "code",
   "execution_count": 2,
   "metadata": {},
   "outputs": [],
   "source": [
    "from dataset import load_svhn, random_split_train_val\n",
    "from gradient_check import check_layer_gradient, check_layer_param_gradient, check_model_gradient\n",
    "from layers import FullyConnectedLayer, ReLULayer\n",
    "from model import TwoLayerNet\n",
    "from trainer import Trainer, Dataset\n",
    "from optim import SGD, MomentumSGD\n",
    "from metrics import multiclass_accuracy"
   ]
  },
  {
   "cell_type": "markdown",
   "metadata": {},
   "source": [
    "# Загружаем данные\n",
    "\n",
    "И разделяем их на training и validation."
   ]
  },
  {
   "cell_type": "code",
   "execution_count": 3,
   "metadata": {},
   "outputs": [
    {
     "name": "stderr",
     "output_type": "stream",
     "text": [
      "<ipython-input-3-6cc8c6fecdee>:2: DeprecationWarning: `np.float` is a deprecated alias for the builtin `float`. To silence this warning, use `float` by itself. Doing this will not modify any behavior and is safe. If you specifically wanted the numpy scalar type, use `np.float64` here.\n",
      "Deprecated in NumPy 1.20; for more details and guidance: https://numpy.org/devdocs/release/1.20.0-notes.html#deprecations\n",
      "  train_flat = train_X.reshape(train_X.shape[0], -1).astype(np.float) / 255.0\n",
      "<ipython-input-3-6cc8c6fecdee>:3: DeprecationWarning: `np.float` is a deprecated alias for the builtin `float`. To silence this warning, use `float` by itself. Doing this will not modify any behavior and is safe. If you specifically wanted the numpy scalar type, use `np.float64` here.\n",
      "Deprecated in NumPy 1.20; for more details and guidance: https://numpy.org/devdocs/release/1.20.0-notes.html#deprecations\n",
      "  test_flat = test_X.reshape(test_X.shape[0], -1).astype(np.float) / 255.0\n"
     ]
    }
   ],
   "source": [
    "def prepare_for_neural_network(train_X, test_X):\n",
    "    train_flat = train_X.reshape(train_X.shape[0], -1).astype(np.float) / 255.0\n",
    "    test_flat = test_X.reshape(test_X.shape[0], -1).astype(np.float) / 255.0\n",
    "    \n",
    "    # Subtract mean\n",
    "    mean_image = np.mean(train_flat, axis = 0)\n",
    "    train_flat -= mean_image\n",
    "    test_flat -= mean_image\n",
    "    \n",
    "    return train_flat, test_flat\n",
    "    \n",
    "train_X, train_y, test_X, test_y = load_svhn(\"data\", max_train=10000, max_test=1000)    \n",
    "train_X, test_X = prepare_for_neural_network(train_X, test_X)\n",
    "# Split train into train and val\n",
    "train_X, train_y, val_X, val_y = random_split_train_val(train_X, train_y, num_val = 1000)"
   ]
  },
  {
   "cell_type": "markdown",
   "metadata": {},
   "source": [
    "# Как всегда, начинаем с кирпичиков\n",
    "\n",
    "Мы будем реализовывать необходимые нам слои по очереди. Каждый слой должен реализовать:\n",
    "- прямой проход (forward pass), который генерирует выход слоя по входу и запоминает необходимые данные\n",
    "- обратный проход (backward pass), который получает градиент по выходу слоя и вычисляет градиент по входу и по параметрам\n",
    "\n",
    "Начнем с ReLU, у которого параметров нет."
   ]
  },
  {
   "cell_type": "code",
   "execution_count": 4,
   "metadata": {},
   "outputs": [
    {
     "name": "stdout",
     "output_type": "stream",
     "text": [
      "Gradient check passed!\n"
     ]
    }
   ],
   "source": [
    "# TODO: Implement ReLULayer layer in layers.py\n",
    "# Note: you'll need to copy implementation of the gradient_check function from the previous assignment\n",
    "\n",
    "X = np.array([[1,-2,3],\n",
    "              [-1, 2, 0.1]\n",
    "              ])\n",
    "\n",
    "assert check_layer_gradient(ReLULayer(), X)"
   ]
  },
  {
   "cell_type": "markdown",
   "metadata": {},
   "source": [
    "А теперь реализуем полносвязный слой (fully connected layer), у которого будет два массива параметров: W (weights) и B (bias).\n",
    "\n",
    "Все параметры наши слои будут использовать для параметров специальный класс `Param`, в котором будут храниться значения параметров и градиенты этих параметров, вычисляемые во время обратного прохода.\n",
    "\n",
    "Это даст возможность аккумулировать (суммировать) градиенты из разных частей функции потерь, например, из cross-entropy loss и regularization loss."
   ]
  },
  {
   "cell_type": "code",
   "execution_count": 5,
   "metadata": {},
   "outputs": [
    {
     "name": "stdout",
     "output_type": "stream",
     "text": [
      "Gradient check passed!\n",
      "Gradient check passed!\n",
      "Gradient check passed!\n"
     ]
    }
   ],
   "source": [
    "# TODO: Implement FullyConnected layer forward and backward methods\n",
    "assert check_layer_gradient(FullyConnectedLayer(3, 4), X)\n",
    "# TODO: Implement storing gradients for W and B\n",
    "assert check_layer_param_gradient(FullyConnectedLayer(3, 4), X, 'W')\n",
    "assert check_layer_param_gradient(FullyConnectedLayer(3, 4), X, 'B')"
   ]
  },
  {
   "cell_type": "markdown",
   "metadata": {},
   "source": [
    "## Создаем нейронную сеть\n",
    "\n",
    "Теперь мы реализуем простейшую нейронную сеть с двумя полносвязным слоями и нелинейностью ReLU. Реализуйте функцию `compute_loss_and_gradients`, она должна запустить прямой и обратный проход через оба слоя для вычисления градиентов.\n",
    "\n",
    "Не забудьте реализовать очистку градиентов в начале функции."
   ]
  },
  {
   "cell_type": "code",
   "execution_count": 6,
   "metadata": {},
   "outputs": [
    {
     "name": "stdout",
     "output_type": "stream",
     "text": [
      "Checking gradient for W1\n",
      "Gradient check passed!\n",
      "Checking gradient for B1\n",
      "Gradient check passed!\n",
      "Checking gradient for W2\n",
      "Gradient check passed!\n",
      "Checking gradient for B2\n",
      "Gradient check passed!\n"
     ]
    },
    {
     "data": {
      "text/plain": [
       "True"
      ]
     },
     "execution_count": 6,
     "metadata": {},
     "output_type": "execute_result"
    }
   ],
   "source": [
    "# TODO: In model.py, implement compute_loss_and_gradients function\n",
    "model = TwoLayerNet(n_input = train_X.shape[1], n_output = 10, hidden_layer_size = 3, reg = 0)\n",
    "loss = model.compute_loss_and_gradients(train_X[:2], train_y[:2])\n",
    "\n",
    "# TODO Now implement backward pass and aggregate all of the params\n",
    "check_model_gradient(model, train_X[:2], train_y[:2])"
   ]
  },
  {
   "cell_type": "markdown",
   "metadata": {},
   "source": [
    "Теперь добавьте к модели регуляризацию - она должна прибавляться к loss и делать свой вклад в градиенты."
   ]
  },
  {
   "cell_type": "code",
   "execution_count": 7,
   "metadata": {},
   "outputs": [
    {
     "name": "stdout",
     "output_type": "stream",
     "text": [
      "Checking gradient for W1\n",
      "Gradient check passed!\n",
      "Checking gradient for B1\n",
      "Gradient check passed!\n",
      "Checking gradient for W2\n",
      "Gradient check passed!\n",
      "Checking gradient for B2\n",
      "Gradient check passed!\n"
     ]
    },
    {
     "data": {
      "text/plain": [
       "True"
      ]
     },
     "execution_count": 7,
     "metadata": {},
     "output_type": "execute_result"
    }
   ],
   "source": [
    "# TODO Now implement l2 regularization in the forward and backward pass\n",
    "model_with_reg = TwoLayerNet(n_input = train_X.shape[1], n_output = 10, hidden_layer_size = 3, reg = 1e1)\n",
    "loss_with_reg = model_with_reg.compute_loss_and_gradients(train_X[:2], train_y[:2])\n",
    "assert loss_with_reg > loss and not np.isclose(loss_with_reg, loss), \\\n",
    "    \"Loss with regularization (%2.4f) should be higher than without it (%2.4f)!\" % (loss, loss_with_reg)\n",
    "\n",
    "check_model_gradient(model_with_reg, train_X[:2], train_y[:2])"
   ]
  },
  {
   "cell_type": "markdown",
   "metadata": {},
   "source": [
    "Также реализуем функцию предсказания (вычисления значения) модели на новых данных.\n",
    "\n",
    "Какое значение точности мы ожидаем увидеть до начала тренировки?"
   ]
  },
  {
   "cell_type": "code",
   "execution_count": 8,
   "metadata": {},
   "outputs": [
    {
     "data": {
      "text/plain": [
       "0.1"
      ]
     },
     "execution_count": 8,
     "metadata": {},
     "output_type": "execute_result"
    }
   ],
   "source": [
    "# Finally, implement predict function!\n",
    "\n",
    "# TODO: Implement predict function\n",
    "# What would be the value we expect?\n",
    "multiclass_accuracy(model_with_reg.predict(train_X[:30]), train_y[:30]) "
   ]
  },
  {
   "cell_type": "markdown",
   "metadata": {},
   "source": [
    "# Допишем код для процесса тренировки\n",
    "\n",
    "Если все реализовано корректно, значение функции ошибки должно уменьшаться с каждой эпохой, пусть и медленно. Не беспокойтесь пока про validation accuracy."
   ]
  },
  {
   "cell_type": "code",
   "execution_count": 9,
   "metadata": {},
   "outputs": [
    {
     "name": "stdout",
     "output_type": "stream",
     "text": [
      "Loss: 2.216398, Train accuracy: 0.196667, val accuracy: 0.206000\n",
      "Loss: 2.153856, Train accuracy: 0.196667, val accuracy: 0.206000\n",
      "Loss: 2.099106, Train accuracy: 0.196667, val accuracy: 0.206000\n",
      "Loss: 2.285874, Train accuracy: 0.196667, val accuracy: 0.206000\n",
      "Loss: 2.168890, Train accuracy: 0.196667, val accuracy: 0.206000\n",
      "Loss: 2.063678, Train accuracy: 0.196667, val accuracy: 0.206000\n",
      "Loss: 2.365672, Train accuracy: 0.196667, val accuracy: 0.206000\n",
      "Loss: 2.103934, Train accuracy: 0.196667, val accuracy: 0.206000\n",
      "Loss: 2.222549, Train accuracy: 0.210333, val accuracy: 0.218000\n",
      "Loss: 2.059842, Train accuracy: 0.233111, val accuracy: 0.237000\n",
      "Loss: 2.115231, Train accuracy: 0.260667, val accuracy: 0.257000\n",
      "Loss: 2.090787, Train accuracy: 0.272111, val accuracy: 0.275000\n",
      "Loss: 2.098957, Train accuracy: 0.288222, val accuracy: 0.292000\n",
      "Loss: 1.974340, Train accuracy: 0.306889, val accuracy: 0.310000\n",
      "Loss: 2.011588, Train accuracy: 0.333000, val accuracy: 0.336000\n",
      "Loss: 1.819071, Train accuracy: 0.369444, val accuracy: 0.366000\n",
      "Loss: 1.805035, Train accuracy: 0.398222, val accuracy: 0.391000\n",
      "Loss: 2.001364, Train accuracy: 0.415444, val accuracy: 0.405000\n",
      "Loss: 1.930639, Train accuracy: 0.435778, val accuracy: 0.432000\n",
      "Loss: 1.738233, Train accuracy: 0.467111, val accuracy: 0.463000\n"
     ]
    }
   ],
   "source": [
    "model = TwoLayerNet(n_input = train_X.shape[1], n_output = 10, hidden_layer_size = 100, reg = 1e-5)\n",
    "dataset = Dataset(train_X, train_y, val_X, val_y)\n",
    "trainer = Trainer(model, dataset, SGD())\n",
    "\n",
    "# TODO Implement missing pieces in Trainer.fit function\n",
    "# You should expect loss to go down every epoch, even if it's slow\n",
    "loss_history, train_history, val_history = trainer.fit()"
   ]
  },
  {
   "cell_type": "code",
   "execution_count": 10,
   "metadata": {},
   "outputs": [
    {
     "data": {
      "text/plain": [
       "[<matplotlib.lines.Line2D at 0x7fb82fd7df10>]"
      ]
     },
     "execution_count": 10,
     "metadata": {},
     "output_type": "execute_result"
    },
    {
     "data": {
      "image/png": "[encoded data removed]",
      "text/plain": [
       "<Figure size 432x288 with 1 Axes>"
      ]
     },
     "metadata": {
      "needs_background": "light"
     },
     "output_type": "display_data"
    }
   ],
   "source": [
    "plt.plot(train_history)\n",
    "plt.plot(val_history)"
   ]
  },
  {
   "cell_type": "markdown",
   "metadata": {},
   "source": [
    "# Улучшаем процесс тренировки\n",
    "\n",
    "Мы реализуем несколько ключевых оптимизаций, необходимых для тренировки современных нейросетей."
   ]
  },
  {
   "cell_type": "markdown",
   "metadata": {},
   "source": [
    "## Уменьшение скорости обучения (learning rate decay)\n",
    "\n",
    "Одна из необходимых оптимизаций во время тренировки нейронных сетей - постепенное уменьшение скорости обучения по мере тренировки.\n",
    "\n",
    "Один из стандартных методов - уменьшение скорости обучения (learning rate) каждые N эпох на коэффициент d (часто называемый decay). Значения N и d, как всегда, являются гиперпараметрами и должны подбираться на основе эффективности на проверочных данных (validation data). \n",
    "\n",
    "В нашем случае N будет равным 1."
   ]
  },
  {
   "cell_type": "code",
   "execution_count": 11,
   "metadata": {},
   "outputs": [
    {
     "name": "stdout",
     "output_type": "stream",
     "text": [
      "Loss: 2.148966, Train accuracy: 0.238000, val accuracy: 0.254000\n",
      "Loss: 2.027115, Train accuracy: 0.434889, val accuracy: 0.431000\n",
      "Loss: 1.637466, Train accuracy: 0.540556, val accuracy: 0.537000\n",
      "Loss: 0.885861, Train accuracy: 0.640333, val accuracy: 0.623000\n",
      "Loss: 1.212719, Train accuracy: 0.681222, val accuracy: 0.652000\n",
      "Loss: 1.645805, Train accuracy: 0.704778, val accuracy: 0.696000\n",
      "Loss: 0.868166, Train accuracy: 0.728778, val accuracy: 0.709000\n",
      "Loss: 1.027291, Train accuracy: 0.738778, val accuracy: 0.694000\n",
      "Loss: 1.559749, Train accuracy: 0.754556, val accuracy: 0.698000\n",
      "Loss: 0.612039, Train accuracy: 0.774778, val accuracy: 0.723000\n"
     ]
    }
   ],
   "source": [
    "# TODO Implement learning rate decay inside Trainer.fit method\n",
    "# Decay should happen once per epoch\n",
    "\n",
    "model = TwoLayerNet(n_input = train_X.shape[1], n_output = 10, hidden_layer_size = 100, reg = 1e-5)\n",
    "dataset = Dataset(train_X, train_y, val_X, val_y)\n",
    "trainer = Trainer(model, dataset, SGD(), num_epochs=10, learning_rate=1e-1, learning_rate_decay=0.99)\n",
    "\n",
    "initial_learning_rate = trainer.learning_rate\n",
    "loss_history, train_history, val_history = trainer.fit()\n",
    "\n",
    "assert trainer.learning_rate < initial_learning_rate, \"Learning rate should've been reduced\"\n",
    "assert trainer.learning_rate > 0.5*initial_learning_rate, \"Learning rate shouldn'tve been reduced that much!\""
   ]
  },
  {
   "cell_type": "markdown",
   "metadata": {},
   "source": [
    "# Накопление импульса (Momentum SGD)\n",
    "\n",
    "Другой большой класс оптимизаций - использование более эффективных методов градиентного спуска. Мы реализуем один из них - накопление импульса (Momentum SGD).\n",
    "\n",
    "Этот метод хранит скорость движения, использует градиент для ее изменения на каждом шаге, и изменяет веса пропорционально значению скорости.\n",
    "(Физическая аналогия: Вместо скорости градиенты теперь будут задавать ускорение, но будет присутствовать сила трения.)\n",
    "\n",
    "```\n",
    "velocity = momentum * velocity - learning_rate * gradient \n",
    "w = w + velocity\n",
    "```\n",
    "\n",
    "`momentum` здесь коэффициент затухания, который тоже является гиперпараметром (к счастью, для него часто есть хорошее значение по умолчанию, типичный диапазон -- 0.8-0.99).\n",
    "\n",
    "Несколько полезных ссылок, где метод разбирается более подробно:  \n",
    "http://cs231n.github.io/neural-networks-3/#sgd  \n",
    "https://distill.pub/2017/momentum/"
   ]
  },
  {
   "cell_type": "code",
   "execution_count": 12,
   "metadata": {},
   "outputs": [
    {
     "name": "stdout",
     "output_type": "stream",
     "text": [
      "Loss: 2.300263, Train accuracy: 0.214556, val accuracy: 0.218000\n",
      "Loss: 1.776255, Train accuracy: 0.385889, val accuracy: 0.390000\n",
      "Loss: 1.479782, Train accuracy: 0.530556, val accuracy: 0.516000\n",
      "Loss: 1.367479, Train accuracy: 0.614889, val accuracy: 0.599000\n",
      "Loss: 0.988633, Train accuracy: 0.655889, val accuracy: 0.640000\n",
      "Loss: 1.178889, Train accuracy: 0.701556, val accuracy: 0.670000\n",
      "Loss: 1.422955, Train accuracy: 0.669111, val accuracy: 0.657000\n",
      "Loss: 1.859614, Train accuracy: 0.726667, val accuracy: 0.692000\n",
      "Loss: 0.918781, Train accuracy: 0.733778, val accuracy: 0.692000\n",
      "Loss: 1.004385, Train accuracy: 0.760111, val accuracy: 0.717000\n",
      "Loss: 0.660180, Train accuracy: 0.766556, val accuracy: 0.713000\n",
      "Loss: 1.221480, Train accuracy: 0.782556, val accuracy: 0.706000\n",
      "Loss: 0.946259, Train accuracy: 0.759222, val accuracy: 0.719000\n",
      "Loss: 1.115241, Train accuracy: 0.788778, val accuracy: 0.726000\n",
      "Loss: 0.985313, Train accuracy: 0.784111, val accuracy: 0.728000\n",
      "Loss: 1.120770, Train accuracy: 0.803111, val accuracy: 0.739000\n",
      "Loss: 0.924218, Train accuracy: 0.796556, val accuracy: 0.709000\n",
      "Loss: 0.767455, Train accuracy: 0.806444, val accuracy: 0.729000\n",
      "Loss: 1.125742, Train accuracy: 0.793778, val accuracy: 0.719000\n",
      "Loss: 0.823033, Train accuracy: 0.817444, val accuracy: 0.728000\n"
     ]
    }
   ],
   "source": [
    "# TODO: Implement MomentumSGD.update function in optim.py\n",
    "\n",
    "model = TwoLayerNet(n_input = train_X.shape[1], n_output = 10, hidden_layer_size = 100, reg = 1e-3)\n",
    "dataset = Dataset(train_X, train_y, val_X, val_y)\n",
    "trainer = Trainer(model, dataset, MomentumSGD(), learning_rate_decay=0.99)\n",
    "\n",
    "# You should see even better results than before!\n",
    "loss_history, train_history, val_history = trainer.fit()"
   ]
  },
  {
   "cell_type": "markdown",
   "metadata": {},
   "source": [
    "# Ну что, давайте уже тренировать сеть!"
   ]
  },
  {
   "cell_type": "markdown",
   "metadata": {},
   "source": [
    "## Последний тест - переобучимся (overfit) на маленьком наборе данных\n",
    "\n",
    "Хороший способ проверить, все ли реализовано корректно - переобучить сеть на маленьком наборе данных.  \n",
    "Наша модель обладает достаточной мощностью, чтобы приблизить маленький набор данных идеально, поэтому мы ожидаем, что на нем мы быстро дойдем до 100% точности на тренировочном наборе. \n",
    "\n",
    "Если этого не происходит, то где-то была допущена ошибка!"
   ]
  },
  {
   "cell_type": "code",
   "execution_count": 13,
   "metadata": {},
   "outputs": [
    {
     "name": "stdout",
     "output_type": "stream",
     "text": [
      "Loss: 2.343779, Train accuracy: 0.200000, val accuracy: 0.133333\n",
      "Loss: 2.312015, Train accuracy: 0.200000, val accuracy: 0.133333\n",
      "Loss: 2.291712, Train accuracy: 0.200000, val accuracy: 0.133333\n",
      "Loss: 2.329028, Train accuracy: 0.200000, val accuracy: 0.133333\n",
      "Loss: 2.312288, Train accuracy: 0.200000, val accuracy: 0.133333\n",
      "Loss: 2.318482, Train accuracy: 0.200000, val accuracy: 0.133333\n",
      "Loss: 2.246093, Train accuracy: 0.266667, val accuracy: 0.000000\n",
      "Loss: 2.166320, Train accuracy: 0.266667, val accuracy: 0.000000\n",
      "Loss: 2.308674, Train accuracy: 0.400000, val accuracy: 0.000000\n",
      "Loss: 2.281737, Train accuracy: 0.400000, val accuracy: 0.000000\n",
      "Loss: 2.310660, Train accuracy: 0.400000, val accuracy: 0.000000\n",
      "Loss: 1.730095, Train accuracy: 0.400000, val accuracy: 0.000000\n",
      "Loss: 1.985395, Train accuracy: 0.400000, val accuracy: 0.000000\n",
      "Loss: 1.867650, Train accuracy: 0.333333, val accuracy: 0.000000\n",
      "Loss: 2.049335, Train accuracy: 0.333333, val accuracy: 0.000000\n",
      "Loss: 2.347128, Train accuracy: 0.400000, val accuracy: 0.000000\n",
      "Loss: 1.696213, Train accuracy: 0.400000, val accuracy: 0.000000\n",
      "Loss: 1.869306, Train accuracy: 0.400000, val accuracy: 0.000000\n",
      "Loss: 1.524900, Train accuracy: 0.400000, val accuracy: 0.000000\n",
      "Loss: 2.085230, Train accuracy: 0.400000, val accuracy: 0.000000\n",
      "Loss: 1.797931, Train accuracy: 0.400000, val accuracy: 0.000000\n",
      "Loss: 1.860875, Train accuracy: 0.400000, val accuracy: 0.000000\n",
      "Loss: 1.726879, Train accuracy: 0.466667, val accuracy: 0.066667\n",
      "Loss: 1.640941, Train accuracy: 0.466667, val accuracy: 0.000000\n",
      "Loss: 1.651900, Train accuracy: 0.466667, val accuracy: 0.000000\n",
      "Loss: 1.027671, Train accuracy: 0.466667, val accuracy: 0.000000\n",
      "Loss: 1.184992, Train accuracy: 0.466667, val accuracy: 0.000000\n",
      "Loss: 1.287371, Train accuracy: 0.466667, val accuracy: 0.000000\n",
      "Loss: 1.483798, Train accuracy: 0.466667, val accuracy: 0.000000\n",
      "Loss: 2.025623, Train accuracy: 0.533333, val accuracy: 0.066667\n",
      "Loss: 1.872407, Train accuracy: 0.533333, val accuracy: 0.066667\n",
      "Loss: 1.712701, Train accuracy: 0.600000, val accuracy: 0.000000\n",
      "Loss: 1.840760, Train accuracy: 0.466667, val accuracy: 0.066667\n",
      "Loss: 2.055315, Train accuracy: 0.533333, val accuracy: 0.066667\n",
      "Loss: 1.980892, Train accuracy: 0.600000, val accuracy: 0.000000\n",
      "Loss: 1.634993, Train accuracy: 0.600000, val accuracy: 0.066667\n",
      "Loss: 2.129369, Train accuracy: 0.600000, val accuracy: 0.066667\n",
      "Loss: 1.413910, Train accuracy: 0.666667, val accuracy: 0.066667\n",
      "Loss: 1.410152, Train accuracy: 0.666667, val accuracy: 0.066667\n",
      "Loss: 1.593913, Train accuracy: 0.666667, val accuracy: 0.066667\n",
      "Loss: 1.780241, Train accuracy: 0.666667, val accuracy: 0.066667\n",
      "Loss: 2.025302, Train accuracy: 0.666667, val accuracy: 0.066667\n",
      "Loss: 1.255827, Train accuracy: 0.666667, val accuracy: 0.066667\n",
      "Loss: 1.437736, Train accuracy: 0.666667, val accuracy: 0.000000\n",
      "Loss: 1.390134, Train accuracy: 0.666667, val accuracy: 0.066667\n",
      "Loss: 1.780511, Train accuracy: 0.733333, val accuracy: 0.066667\n",
      "Loss: 1.326462, Train accuracy: 0.666667, val accuracy: 0.066667\n",
      "Loss: 0.825404, Train accuracy: 0.666667, val accuracy: 0.066667\n",
      "Loss: 1.366925, Train accuracy: 0.800000, val accuracy: 0.066667\n",
      "Loss: 0.978775, Train accuracy: 0.733333, val accuracy: 0.066667\n",
      "Loss: 1.494127, Train accuracy: 0.733333, val accuracy: 0.066667\n",
      "Loss: 1.847883, Train accuracy: 0.733333, val accuracy: 0.066667\n",
      "Loss: 1.612274, Train accuracy: 0.733333, val accuracy: 0.066667\n",
      "Loss: 1.671464, Train accuracy: 0.733333, val accuracy: 0.133333\n",
      "Loss: 1.072448, Train accuracy: 0.733333, val accuracy: 0.066667\n",
      "Loss: 1.025048, Train accuracy: 0.666667, val accuracy: 0.000000\n",
      "Loss: 1.485053, Train accuracy: 0.733333, val accuracy: 0.066667\n",
      "Loss: 1.072038, Train accuracy: 0.733333, val accuracy: 0.066667\n",
      "Loss: 0.844260, Train accuracy: 0.733333, val accuracy: 0.066667\n",
      "Loss: 1.678013, Train accuracy: 0.733333, val accuracy: 0.066667\n",
      "Loss: 1.572066, Train accuracy: 0.733333, val accuracy: 0.066667\n",
      "Loss: 1.994457, Train accuracy: 0.733333, val accuracy: 0.066667\n",
      "Loss: 1.586705, Train accuracy: 0.733333, val accuracy: 0.066667\n",
      "Loss: 1.844549, Train accuracy: 0.733333, val accuracy: 0.066667\n",
      "Loss: 1.359380, Train accuracy: 0.733333, val accuracy: 0.066667\n",
      "Loss: 1.216176, Train accuracy: 0.733333, val accuracy: 0.066667\n",
      "Loss: 1.646456, Train accuracy: 0.733333, val accuracy: 0.066667\n",
      "Loss: 1.043855, Train accuracy: 0.733333, val accuracy: 0.066667\n",
      "Loss: 2.068923, Train accuracy: 0.733333, val accuracy: 0.066667\n",
      "Loss: 1.179002, Train accuracy: 0.733333, val accuracy: 0.066667\n",
      "Loss: 1.740447, Train accuracy: 0.733333, val accuracy: 0.066667\n",
      "Loss: 1.562526, Train accuracy: 0.733333, val accuracy: 0.066667\n",
      "Loss: 1.025793, Train accuracy: 0.866667, val accuracy: 0.066667\n",
      "Loss: 1.332617, Train accuracy: 0.866667, val accuracy: 0.066667\n",
      "Loss: 0.975781, Train accuracy: 0.800000, val accuracy: 0.066667\n",
      "Loss: 1.223520, Train accuracy: 0.866667, val accuracy: 0.066667\n",
      "Loss: 1.629298, Train accuracy: 0.866667, val accuracy: 0.066667\n",
      "Loss: 1.310754, Train accuracy: 0.866667, val accuracy: 0.066667\n",
      "Loss: 1.662735, Train accuracy: 0.866667, val accuracy: 0.066667\n",
      "Loss: 1.713201, Train accuracy: 0.866667, val accuracy: 0.066667\n",
      "Loss: 1.091205, Train accuracy: 0.866667, val accuracy: 0.066667\n",
      "Loss: 1.011788, Train accuracy: 0.933333, val accuracy: 0.066667\n",
      "Loss: 1.541339, Train accuracy: 0.933333, val accuracy: 0.066667\n",
      "Loss: 1.623567, Train accuracy: 0.933333, val accuracy: 0.066667\n",
      "Loss: 1.067862, Train accuracy: 0.933333, val accuracy: 0.066667\n",
      "Loss: 1.611758, Train accuracy: 0.933333, val accuracy: 0.066667\n",
      "Loss: 0.973488, Train accuracy: 0.933333, val accuracy: 0.066667\n",
      "Loss: 1.179978, Train accuracy: 0.933333, val accuracy: 0.066667\n",
      "Loss: 0.993052, Train accuracy: 0.933333, val accuracy: 0.066667\n",
      "Loss: 1.786436, Train accuracy: 0.933333, val accuracy: 0.066667\n",
      "Loss: 1.815847, Train accuracy: 0.933333, val accuracy: 0.066667\n",
      "Loss: 1.192286, Train accuracy: 0.933333, val accuracy: 0.066667\n",
      "Loss: 1.485685, Train accuracy: 0.933333, val accuracy: 0.066667\n",
      "Loss: 1.050384, Train accuracy: 0.933333, val accuracy: 0.066667\n",
      "Loss: 1.621113, Train accuracy: 0.933333, val accuracy: 0.066667\n",
      "Loss: 1.202529, Train accuracy: 0.933333, val accuracy: 0.066667\n",
      "Loss: 1.339062, Train accuracy: 0.933333, val accuracy: 0.066667\n",
      "Loss: 1.602930, Train accuracy: 0.933333, val accuracy: 0.066667\n",
      "Loss: 1.309156, Train accuracy: 0.933333, val accuracy: 0.000000\n",
      "Loss: 1.601350, Train accuracy: 0.933333, val accuracy: 0.000000\n",
      "Loss: 1.713322, Train accuracy: 0.933333, val accuracy: 0.000000\n",
      "Loss: 1.309337, Train accuracy: 0.933333, val accuracy: 0.000000\n",
      "Loss: 1.092635, Train accuracy: 0.933333, val accuracy: 0.000000\n",
      "Loss: 1.282079, Train accuracy: 0.933333, val accuracy: 0.000000\n",
      "Loss: 1.412030, Train accuracy: 1.000000, val accuracy: 0.000000\n",
      "Loss: 1.187285, Train accuracy: 1.000000, val accuracy: 0.000000\n",
      "Loss: 1.044179, Train accuracy: 1.000000, val accuracy: 0.000000\n",
      "Loss: 1.167110, Train accuracy: 1.000000, val accuracy: 0.000000\n",
      "Loss: 1.079003, Train accuracy: 1.000000, val accuracy: 0.000000\n",
      "Loss: 1.430157, Train accuracy: 1.000000, val accuracy: 0.000000\n",
      "Loss: 1.405614, Train accuracy: 0.933333, val accuracy: 0.000000\n",
      "Loss: 1.282129, Train accuracy: 1.000000, val accuracy: 0.000000\n",
      "Loss: 1.407389, Train accuracy: 1.000000, val accuracy: 0.000000\n",
      "Loss: 1.476591, Train accuracy: 1.000000, val accuracy: 0.000000\n",
      "Loss: 1.414943, Train accuracy: 0.933333, val accuracy: 0.000000\n",
      "Loss: 1.595478, Train accuracy: 1.000000, val accuracy: 0.000000\n",
      "Loss: 1.459918, Train accuracy: 1.000000, val accuracy: 0.000000\n",
      "Loss: 1.630460, Train accuracy: 1.000000, val accuracy: 0.000000\n",
      "Loss: 1.046978, Train accuracy: 1.000000, val accuracy: 0.000000\n",
      "Loss: 1.280935, Train accuracy: 1.000000, val accuracy: 0.000000\n",
      "Loss: 1.306268, Train accuracy: 1.000000, val accuracy: 0.000000\n",
      "Loss: 1.119943, Train accuracy: 1.000000, val accuracy: 0.000000\n",
      "Loss: 1.349798, Train accuracy: 1.000000, val accuracy: 0.000000\n",
      "Loss: 1.297171, Train accuracy: 1.000000, val accuracy: 0.000000\n",
      "Loss: 1.411950, Train accuracy: 1.000000, val accuracy: 0.000000\n",
      "Loss: 1.307626, Train accuracy: 1.000000, val accuracy: 0.000000\n",
      "Loss: 1.433891, Train accuracy: 1.000000, val accuracy: 0.000000\n",
      "Loss: 1.063805, Train accuracy: 1.000000, val accuracy: 0.000000\n",
      "Loss: 1.429457, Train accuracy: 1.000000, val accuracy: 0.000000\n",
      "Loss: 1.378163, Train accuracy: 1.000000, val accuracy: 0.000000\n",
      "Loss: 1.293085, Train accuracy: 1.000000, val accuracy: 0.000000\n",
      "Loss: 1.117985, Train accuracy: 1.000000, val accuracy: 0.000000\n",
      "Loss: 1.318629, Train accuracy: 1.000000, val accuracy: 0.000000\n",
      "Loss: 1.269224, Train accuracy: 1.000000, val accuracy: 0.000000\n",
      "Loss: 1.434012, Train accuracy: 1.000000, val accuracy: 0.000000\n",
      "Loss: 1.187255, Train accuracy: 1.000000, val accuracy: 0.000000\n",
      "Loss: 1.575831, Train accuracy: 1.000000, val accuracy: 0.000000\n",
      "Loss: 1.394856, Train accuracy: 1.000000, val accuracy: 0.000000\n",
      "Loss: 1.151471, Train accuracy: 1.000000, val accuracy: 0.000000\n",
      "Loss: 1.344492, Train accuracy: 1.000000, val accuracy: 0.000000\n",
      "Loss: 1.568152, Train accuracy: 1.000000, val accuracy: 0.000000\n",
      "Loss: 1.352651, Train accuracy: 1.000000, val accuracy: 0.000000\n",
      "Loss: 1.498330, Train accuracy: 1.000000, val accuracy: 0.000000\n",
      "Loss: 1.359429, Train accuracy: 1.000000, val accuracy: 0.000000\n",
      "Loss: 1.354945, Train accuracy: 1.000000, val accuracy: 0.000000\n",
      "Loss: 1.557169, Train accuracy: 1.000000, val accuracy: 0.000000\n",
      "Loss: 1.556865, Train accuracy: 1.000000, val accuracy: 0.000000\n",
      "Loss: 1.404689, Train accuracy: 1.000000, val accuracy: 0.000000\n",
      "Loss: 1.169435, Train accuracy: 1.000000, val accuracy: 0.000000\n",
      "Loss: 1.208913, Train accuracy: 1.000000, val accuracy: 0.000000\n"
     ]
    }
   ],
   "source": [
    "data_size = 15\n",
    "model = TwoLayerNet(n_input = train_X.shape[1], n_output = 10, hidden_layer_size = 100, reg = 1e-1)\n",
    "dataset = Dataset(train_X[:data_size], train_y[:data_size], val_X[:data_size], val_y[:data_size])\n",
    "trainer = Trainer(model, dataset, SGD(), learning_rate=1e-1, num_epochs=150, batch_size=5)\n",
    "\n",
    "# You should expect this to reach 1.0 training accuracy \n",
    "loss_history, train_history, val_history = trainer.fit()"
   ]
  },
  {
   "cell_type": "markdown",
   "metadata": {},
   "source": [
    "Теперь найдем гипепараметры, для которых этот процесс сходится быстрее.\n",
    "Если все реализовано корректно, то существуют параметры, при которых процесс сходится в **20** эпох или еще быстрее.\n",
    "Найдите их!"
   ]
  },
  {
   "cell_type": "code",
   "execution_count": 18,
   "metadata": {},
   "outputs": [
    {
     "name": "stdout",
     "output_type": "stream",
     "text": [
      "Loss: 2.314000, Train accuracy: 0.200000, val accuracy: 0.133333\n",
      "Loss: 2.266555, Train accuracy: 0.266667, val accuracy: 0.000000\n",
      "Loss: 2.276052, Train accuracy: 0.200000, val accuracy: 0.133333\n",
      "Loss: 2.096782, Train accuracy: 0.333333, val accuracy: 0.066667\n",
      "Loss: 2.315475, Train accuracy: 0.333333, val accuracy: 0.066667\n",
      "Loss: 2.129523, Train accuracy: 0.333333, val accuracy: 0.000000\n",
      "Loss: 2.952549, Train accuracy: 0.133333, val accuracy: 0.200000\n",
      "Loss: 2.427370, Train accuracy: 0.400000, val accuracy: 0.000000\n",
      "Loss: 2.085319, Train accuracy: 0.266667, val accuracy: 0.066667\n",
      "Loss: 2.177743, Train accuracy: 0.200000, val accuracy: 0.133333\n",
      "Loss: 2.058552, Train accuracy: 0.533333, val accuracy: 0.000000\n",
      "Loss: 1.184205, Train accuracy: 0.533333, val accuracy: 0.000000\n",
      "Loss: 1.195423, Train accuracy: 0.600000, val accuracy: 0.000000\n",
      "Loss: 1.209668, Train accuracy: 0.733333, val accuracy: 0.000000\n",
      "Loss: 1.212974, Train accuracy: 0.800000, val accuracy: 0.066667\n",
      "Loss: 0.858098, Train accuracy: 0.800000, val accuracy: 0.000000\n",
      "Loss: 0.760567, Train accuracy: 0.800000, val accuracy: 0.066667\n",
      "Loss: 0.760818, Train accuracy: 0.866667, val accuracy: 0.066667\n",
      "Loss: 0.737979, Train accuracy: 0.866667, val accuracy: 0.066667\n",
      "Loss: 0.652699, Train accuracy: 1.000000, val accuracy: 0.133333\n"
     ]
    }
   ],
   "source": [
    "# Now, tweak some hyper parameters and make it train to 1.0 accuracy in 20 epochs or less\n",
    "\n",
    "model = TwoLayerNet(n_input = train_X.shape[1], n_output = 10, hidden_layer_size = 100, reg = 1e-10)\n",
    "dataset = Dataset(train_X[:data_size], train_y[:data_size], val_X[:data_size], val_y[:data_size])\n",
    "# TODO: Change any hyperparamers or optimizators to reach training accuracy in 20 epochs\n",
    "trainer = Trainer(model, dataset, SGD(), learning_rate=4e-1, num_epochs=20, batch_size=9)\n",
    "\n",
    "loss_history, train_history, val_history = trainer.fit()"
   ]
  },
  {
   "cell_type": "markdown",
   "metadata": {},
   "source": [
    "# Итак, основное мероприятие!\n",
    "\n",
    "Натренируйте лучшую нейросеть! Можно добавлять и изменять параметры, менять количество нейронов в слоях сети и как угодно экспериментировать. \n",
    "\n",
    "Добейтесь точности лучше **60%** на validation set."
   ]
  },
  {
   "cell_type": "code",
   "execution_count": 15,
   "metadata": {
    "scrolled": true
   },
   "outputs": [
    {
     "name": "stdout",
     "output_type": "stream",
     "text": [
      "Loss: 2.085254, Train accuracy: 0.198889, val accuracy: 0.205000\n",
      "Loss: 1.695082, Train accuracy: 0.372222, val accuracy: 0.367000\n",
      "Loss: 1.588735, Train accuracy: 0.546222, val accuracy: 0.522000\n",
      "Loss: 1.275799, Train accuracy: 0.603556, val accuracy: 0.599000\n",
      "Loss: 0.897537, Train accuracy: 0.658444, val accuracy: 0.652000\n",
      "Loss: 1.290068, Train accuracy: 0.686667, val accuracy: 0.666000\n",
      "Loss: 1.240444, Train accuracy: 0.716333, val accuracy: 0.678000\n",
      "Loss: 1.141428, Train accuracy: 0.738667, val accuracy: 0.711000\n",
      "Loss: 1.133849, Train accuracy: 0.724333, val accuracy: 0.680000\n",
      "Loss: 0.889947, Train accuracy: 0.767111, val accuracy: 0.695000\n",
      "Loss: 1.750900, Train accuracy: 0.745333, val accuracy: 0.711000\n",
      "Loss: 0.735723, Train accuracy: 0.745778, val accuracy: 0.674000\n",
      "Loss: 1.032171, Train accuracy: 0.753667, val accuracy: 0.698000\n",
      "Loss: 0.916307, Train accuracy: 0.762778, val accuracy: 0.693000\n",
      "Loss: 0.448014, Train accuracy: 0.792889, val accuracy: 0.724000\n",
      "Loss: 1.018789, Train accuracy: 0.802111, val accuracy: 0.731000\n",
      "Loss: 0.726934, Train accuracy: 0.803333, val accuracy: 0.731000\n",
      "Loss: 0.797263, Train accuracy: 0.811222, val accuracy: 0.730000\n",
      "Loss: 1.404041, Train accuracy: 0.803889, val accuracy: 0.723000\n",
      "Loss: 0.910992, Train accuracy: 0.833667, val accuracy: 0.745000\n",
      "best validation accuracy achieved: 0.745000\n"
     ]
    }
   ],
   "source": [
    "# Let's train the best one-hidden-layer network we can\n",
    "\n",
    "learning_rates = 1e-4\n",
    "reg_strength = 1e-3\n",
    "learning_rate_decay = 0.999\n",
    "hidden_layer_size = 128\n",
    "num_epochs = 200\n",
    "batch_size = 64\n",
    "\n",
    "best_classifier = None\n",
    "best_val_accuracy = None\n",
    "\n",
    "loss_history = []\n",
    "train_history = []\n",
    "val_history = []\n",
    "\n",
    "# TODO find the best hyperparameters to train the network\n",
    "# Don't hesitate to add new values to the arrays above, perform experiments, use any tricks you want\n",
    "# You should expect to get to at least 40% of valudation accuracy\n",
    "# Save loss/train/history of the best classifier to the variables above\n",
    "\n",
    "model = TwoLayerNet(n_input = train_X.shape[1], n_output = 10, hidden_layer_size = 100, reg = 1e-3)\n",
    "dataset = Dataset(train_X, train_y, val_X, val_y)\n",
    "trainer = Trainer(model, dataset, MomentumSGD(), learning_rate_decay=0.99)\n",
    "\n",
    "loss_history, train_history, val_history = trainer.fit()\n",
    "best_val_accuracy = max(val_history)\n",
    "best_classifier = model\n",
    "\n",
    "print('best validation accuracy achieved: %f' % best_val_accuracy)"
   ]
  },
  {
   "cell_type": "code",
   "execution_count": 16,
   "metadata": {},
   "outputs": [
    {
     "data": {
      "text/plain": [
       "[<matplotlib.lines.Line2D at 0x7fb8209e8130>]"
      ]
     },
     "execution_count": 16,
     "metadata": {},
     "output_type": "execute_result"
    },
    {
     "data": {
      "image/png": "[encoded data removed]",
      "text/plain": [
       "<Figure size 1080x504 with 2 Axes>"
      ]
     },
     "metadata": {
      "needs_background": "light"
     },
     "output_type": "display_data"
    }
   ],
   "source": [
    "plt.figure(figsize=(15, 7))\n",
    "plt.subplot(211)\n",
    "plt.title(\"Loss\")\n",
    "plt.plot(loss_history)\n",
    "plt.subplot(212)\n",
    "plt.title(\"Train/validation accuracy\")\n",
    "plt.plot(train_history)\n",
    "plt.plot(val_history)"
   ]
  },
  {
   "cell_type": "markdown",
   "metadata": {},
   "source": [
    "# Как обычно, посмотрим, как наша лучшая модель работает на тестовых данных"
   ]
  },
  {
   "cell_type": "code",
   "execution_count": 17,
   "metadata": {},
   "outputs": [
    {
     "name": "stdout",
     "output_type": "stream",
     "text": [
      "Neural net test set accuracy: 0.716000\n"
     ]
    }
   ],
   "source": [
    "test_pred = best_classifier.predict(test_X)\n",
    "test_accuracy = multiclass_accuracy(test_pred, test_y)\n",
    "print('Neural net test set accuracy: %f' % (test_accuracy, ))"
   ]
  },
  {
   "cell_type": "code",
   "execution_count": null,
   "metadata": {},
   "outputs": [],
   "source": []
  }
 ],
 "metadata": {
  "kernelspec": {
   "display_name": "Python 3",
   "language": "python",
   "name": "python3"
  },
  "language_info": {
   "codemirror_mode": {
    "name": "ipython",
    "version": 3
   },
   "file_extension": ".py",
   "mimetype": "text/x-python",
   "name": "python",
   "nbconvert_exporter": "python",
   "pygments_lexer": "ipython3",
   "version": "3.8.5"
  }
 },
 "nbformat": 4,
 "nbformat_minor": 4
}
